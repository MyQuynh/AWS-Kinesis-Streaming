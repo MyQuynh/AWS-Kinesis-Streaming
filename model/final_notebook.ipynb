{
 "cells": [
  {
   "cell_type": "code",
   "execution_count": null,
   "source": [
    "sc.list_packages()"
   ],
   "outputs": [],
   "metadata": {}
  },
  {
   "cell_type": "code",
   "execution_count": null,
   "source": [
    "%info"
   ],
   "outputs": [],
   "metadata": {}
  },
  {
   "cell_type": "code",
   "execution_count": null,
   "source": [
    "# {\"conf\":{\"spark.pyspark.python\": \"python3.7\",\r\n",
    "#          \"spark.pyspark.virtualenv.enabled\": \"true\",\r\n",
    "#          \"spark.pyspark.virtualenv.type\": \"native\",\r\n",
    "#          \"spark.pyspark.virtualenv.bin.path\":\"/usr/bin/virtualenv\"}\r\n",
    "# }"
   ],
   "outputs": [],
   "metadata": {}
  },
  {
   "cell_type": "code",
   "execution_count": 9,
   "source": [
    "# sc.install_pypi_package(\"pandas==0.25.1\")\r\n",
    "# sc.install_pypi_package(\"requests\")\r\n",
    "# sc.install_pypi_package(\"scipy\")\r\n",
    "# sc.install_pypi_package(\"Pillow\")\r\n",
    "# sc.install_pypi_package(\"h5py==3.0.0\")\r\n",
    "# sc.install_pypi_package(\"s3fs\")"
   ],
   "outputs": [
    {
     "output_type": "display_data",
     "data": {
      "application/vnd.jupyter.widget-view+json": {
       "model_id": "e84faf7f9bba4b5cb72a48fab743e059",
       "version_major": 2,
       "version_minor": 0
      },
      "text/plain": [
       "VBox()"
      ]
     },
     "metadata": {}
    },
    {
     "output_type": "display_data",
     "data": {
      "application/vnd.jupyter.widget-view+json": {
       "model_id": "",
       "version_major": 2,
       "version_minor": 0
      },
      "text/plain": [
       "FloatProgress(value=0.0, bar_style='info', description='Progress:', layout=Layout(height='25px', width='50%'),…"
      ]
     },
     "metadata": {}
    }
   ],
   "metadata": {}
  },
  {
   "cell_type": "markdown",
   "source": [
    "# Import needed library"
   ],
   "metadata": {}
  },
  {
   "cell_type": "code",
   "execution_count": 149,
   "source": [
    "import pandas as pd\n",
    "import requests\n",
    "from io import StringIO  # python3 (or BytesIO for python2)\n",
    "import io\n",
    "import tensorflow as tf\n",
    "import ast\n",
    "from tensorflow.keras.applications import MobileNetV2\n",
    "from pyspark.sql import SparkSession, SQLContext\n",
    "from pyspark.ml.evaluation import RegressionEvaluator\n",
    "from pyspark.ml.recommendation import ALS, ALSModel\n",
    "from pyspark.ml.linalg import *\n",
    "from  pyspark.mllib.linalg.distributed import *\n",
    "from pyspark.sql.types import *\n",
    "from pyspark.sql.functions import *\n",
    "from pyspark.sql.functions import monotonically_increasing_id\n",
    "from functools import reduce\n",
    "from pyspark.sql.window import *\n",
    "import numpy as np\n",
    "import os\n",
    "from scipy.spatial.distance import cosine\n",
    "from pyspark.sql.types import *\n",
    "import requests\n",
    "import boto3\n",
    "from PIL import Image\n",
    "\n",
    "# tf.enable_eager_execution()\n",
    "\n",
    "np.random.seed(0)"
   ],
   "outputs": [
    {
     "output_type": "display_data",
     "data": {
      "application/vnd.jupyter.widget-view+json": {
       "model_id": "2f1ead1339f8428baddd97d144eee994",
       "version_major": 2,
       "version_minor": 0
      },
      "text/plain": [
       "VBox()"
      ]
     },
     "metadata": {}
    },
    {
     "output_type": "display_data",
     "data": {
      "application/vnd.jupyter.widget-view+json": {
       "model_id": "",
       "version_major": 2,
       "version_minor": 0
      },
      "text/plain": [
       "FloatProgress(value=0.0, bar_style='info', description='Progress:', layout=Layout(height='25px', width='50%'),…"
      ]
     },
     "metadata": {}
    }
   ],
   "metadata": {}
  },
  {
   "cell_type": "markdown",
   "source": [
    "# Get the origin dataframe "
   ],
   "metadata": {}
  },
  {
   "cell_type": "code",
   "execution_count": 150,
   "source": [
    "client = boto3.client('s3')\n",
    "\n",
    "def remove(link):\n",
    "    new_link = link.split(\"/\")\n",
    "    new_link = new_link[:-1]\n",
    "    string = '/'.join(new_link)\n",
    "    return string\n",
    "\n",
    "def removeDuplicate(test_list):\n",
    "    res = []\n",
    "    for i in test_list:\n",
    "        if i not in res:\n",
    "            res.append(i)\n",
    "    return res\n",
    "    \n",
    "\n",
    "def createDataFrame():\n",
    "    \n",
    "    sub_list_1 = []\n",
    "\n",
    "    bucket = client.list_objects_v2(Bucket=\"kinesis-s3records-16jckkpyv314r\", Prefix ='firehose')\n",
    "    for content in bucket[\"Contents\"]:\n",
    "        key = content[\"Key\"]\n",
    "        sub_list_1.append(remove(key))\n",
    "        \n",
    "    sub_list_1 = removeDuplicate(sub_list_1)\n",
    "        \n",
    "    \n",
    "    sub_list_2 = []\n",
    "    \n",
    "    \n",
    "    for i in range(len(sub_list_1)):\n",
    "        sub_list_2.append(\"s3://kinesis-s3records-16jckkpyv314r/\" + sub_list_1[i]+\"/\")\n",
    "    \n",
    "\n",
    "    # Creating the dataframe and append list of object to it\n",
    "    schema = StructType([\n",
    "        StructField('caption', StringType(), True),\n",
    "        StructField('hashtag', StringType(), True),\n",
    "        StructField('image_url', StringType(), True)\n",
    "    ])\n",
    "    df = spark.createDataFrame(spark.sparkContext.emptyRDD(), schema)\n",
    "    for s3 in sub_list_2:\n",
    "        df_added = spark.read.json(s3)\n",
    "        df = df.union(df_added)\n",
    "\n",
    "    return df"
   ],
   "outputs": [
    {
     "output_type": "display_data",
     "data": {
      "application/vnd.jupyter.widget-view+json": {
       "model_id": "82b9da21e2154827bda9e965831fce33",
       "version_major": 2,
       "version_minor": 0
      },
      "text/plain": [
       "VBox()"
      ]
     },
     "metadata": {}
    },
    {
     "output_type": "display_data",
     "data": {
      "application/vnd.jupyter.widget-view+json": {
       "model_id": "",
       "version_major": 2,
       "version_minor": 0
      },
      "text/plain": [
       "FloatProgress(value=0.0, bar_style='info', description='Progress:', layout=Layout(height='25px', width='50%'),…"
      ]
     },
     "metadata": {}
    }
   ],
   "metadata": {}
  },
  {
   "cell_type": "code",
   "execution_count": 151,
   "source": [
    "df = createDataFrame()\n",
    "df.show()"
   ],
   "outputs": [
    {
     "output_type": "display_data",
     "data": {
      "application/vnd.jupyter.widget-view+json": {
       "model_id": "45296a0f432848bb9513026480e329ba",
       "version_major": 2,
       "version_minor": 0
      },
      "text/plain": [
       "VBox()"
      ]
     },
     "metadata": {}
    },
    {
     "output_type": "display_data",
     "data": {
      "application/vnd.jupyter.widget-view+json": {
       "model_id": "",
       "version_major": 2,
       "version_minor": 0
      },
      "text/plain": [
       "FloatProgress(value=0.0, bar_style='info', description='Progress:', layout=Layout(height='25px', width='50%'),…"
      ]
     },
     "metadata": {}
    },
    {
     "output_type": "stream",
     "name": "stdout",
     "text": [
      "+--------------------+--------------------+--------------------+\n",
      "|             caption|             hashtag|           image_url|\n",
      "+--------------------+--------------------+--------------------+\n",
      "|Read caption 📌\n",
      "\n",
      "...|[\"btsatunga\", \"un...|https://scontent-...|\n",
      "|The whole event o...|[\"unitednations\",...|https://scontent-...|\n",
      "|New AirPods Pro a...|[\"apple\", \"global...|https://scontent-...|\n",
      "|Ko Phyu Gyi, a vi...|[\"Letkoakpin vill...|https://scontent-...|\n",
      "|Get your hands on...|[\"peing\", \"nft\", ...|https://scontent-...|\n",
      "|....................|[\"btsquotes\", \"un...|https://scontent-...|\n",
      "|https://kaderjila...|[\"HappySunshineDa...|https://scontent-...|\n",
      "|Where's the lie t...|[\"bts\", \"btsedits...|https://scontent-...|\n",
      "|   #godmorningmonday|[\"godmorningmonday\"]|https://scontent-...|\n",
      "|Have you register...|[\"unga\", \"unwomen...|https://scontent-...|\n",
      "|New AirPods Pro a...|[\"apple\", \"global...|https://scontent-...|\n",
      "|New AirPods Pro a...|[\"apple\", \"global...|https://scontent-...|\n",
      "|New AirPods Pro a...|[\"apple\", \"global...|https://scontent-...|\n",
      "|New Naughty Dog T...|[\"dogsofinstagram...|https://scontent-...|\n",
      "|That's End game W...|[\"globalarmsembar...|https://scontent-...|\n",
      "|That's End game W...|[\"globalarmsembar...|https://scontent-...|\n",
      "|Look at them how ...|[\"bts\", \"btsrm\", ...|https://scontent-...|\n",
      "|Frank Ocean's app...|[\"frankocean\", \"b...|https://scontent-...|\n",
      "|@melissarfleming ...|[\"GlobalGoals and...|https://scontent-...|\n",
      "|Facebook will red...|[\"instanews\", \"fa...|https://scontent-...|\n",
      "+--------------------+--------------------+--------------------+\n",
      "only showing top 20 rows"
     ]
    }
   ],
   "metadata": {}
  },
  {
   "cell_type": "code",
   "execution_count": 152,
   "source": [
    "df.count()"
   ],
   "outputs": [
    {
     "output_type": "display_data",
     "data": {
      "application/vnd.jupyter.widget-view+json": {
       "model_id": "5029c33bb6524b49b36ea14cd592cadd",
       "version_major": 2,
       "version_minor": 0
      },
      "text/plain": [
       "VBox()"
      ]
     },
     "metadata": {}
    },
    {
     "output_type": "display_data",
     "data": {
      "application/vnd.jupyter.widget-view+json": {
       "model_id": "",
       "version_major": 2,
       "version_minor": 0
      },
      "text/plain": [
       "FloatProgress(value=0.0, bar_style='info', description='Progress:', layout=Layout(height='25px', width='50%'),…"
      ]
     },
     "metadata": {}
    },
    {
     "output_type": "stream",
     "name": "stdout",
     "text": [
      "421"
     ]
    }
   ],
   "metadata": {}
  },
  {
   "cell_type": "markdown",
   "source": [
    "# Data engineer for the original datasets"
   ],
   "metadata": {}
  },
  {
   "cell_type": "markdown",
   "source": [
    "### 1.0 Create hashtags features"
   ],
   "metadata": {}
  },
  {
   "cell_type": "code",
   "execution_count": 153,
   "source": [
    "# get the hashtags from caption\n",
    "import re\n",
    "def find_hashtag(caption):\n",
    "    to_replace = [\"\\n\", \".\", \",\"]\n",
    "    temp = caption\n",
    "    for i in to_replace:\n",
    "        temp = temp.replace(i,\"\")\n",
    "    hashtags = re.findall(\"#[A-Za-z]+\", temp)\n",
    "    return hashtags    "
   ],
   "outputs": [
    {
     "output_type": "display_data",
     "data": {
      "application/vnd.jupyter.widget-view+json": {
       "model_id": "c297265b00534d34bcd451e75ea10cdf",
       "version_major": 2,
       "version_minor": 0
      },
      "text/plain": [
       "VBox()"
      ]
     },
     "metadata": {}
    },
    {
     "output_type": "display_data",
     "data": {
      "application/vnd.jupyter.widget-view+json": {
       "model_id": "",
       "version_major": 2,
       "version_minor": 0
      },
      "text/plain": [
       "FloatProgress(value=0.0, bar_style='info', description='Progress:', layout=Layout(height='25px', width='50%'),…"
      ]
     },
     "metadata": {}
    }
   ],
   "metadata": {}
  },
  {
   "cell_type": "code",
   "execution_count": 154,
   "source": [
    "df.printSchema()"
   ],
   "outputs": [
    {
     "output_type": "display_data",
     "data": {
      "application/vnd.jupyter.widget-view+json": {
       "model_id": "89dcdb66a01b42ea99a66bec18578f89",
       "version_major": 2,
       "version_minor": 0
      },
      "text/plain": [
       "VBox()"
      ]
     },
     "metadata": {}
    },
    {
     "output_type": "display_data",
     "data": {
      "application/vnd.jupyter.widget-view+json": {
       "model_id": "",
       "version_major": 2,
       "version_minor": 0
      },
      "text/plain": [
       "FloatProgress(value=0.0, bar_style='info', description='Progress:', layout=Layout(height='25px', width='50%'),…"
      ]
     },
     "metadata": {}
    },
    {
     "output_type": "stream",
     "name": "stdout",
     "text": [
      "root\n",
      " |-- caption: string (nullable = true)\n",
      " |-- hashtag: string (nullable = true)\n",
      " |-- image_url: string (nullable = true)"
     ]
    }
   ],
   "metadata": {}
  },
  {
   "cell_type": "code",
   "execution_count": 155,
   "source": [
    "# get the pandas version for creating img and hashtags datasets\n",
    "df_pd = df.toPandas()"
   ],
   "outputs": [
    {
     "output_type": "display_data",
     "data": {
      "application/vnd.jupyter.widget-view+json": {
       "model_id": "47b4ca54887745ceb15a89c509a13868",
       "version_major": 2,
       "version_minor": 0
      },
      "text/plain": [
       "VBox()"
      ]
     },
     "metadata": {}
    },
    {
     "output_type": "display_data",
     "data": {
      "application/vnd.jupyter.widget-view+json": {
       "model_id": "",
       "version_major": 2,
       "version_minor": 0
      },
      "text/plain": [
       "FloatProgress(value=0.0, bar_style='info', description='Progress:', layout=Layout(height='25px', width='50%'),…"
      ]
     },
     "metadata": {}
    }
   ],
   "metadata": {}
  },
  {
   "cell_type": "code",
   "execution_count": 156,
   "source": [
    "df_pd.caption[0]"
   ],
   "outputs": [
    {
     "output_type": "display_data",
     "data": {
      "application/vnd.jupyter.widget-view+json": {
       "model_id": "cbcbd9007e514e9a9ca6f88a9337e39e",
       "version_major": 2,
       "version_minor": 0
      },
      "text/plain": [
       "VBox()"
      ]
     },
     "metadata": {}
    },
    {
     "output_type": "display_data",
     "data": {
      "application/vnd.jupyter.widget-view+json": {
       "model_id": "",
       "version_major": 2,
       "version_minor": 0
      },
      "text/plain": [
       "FloatProgress(value=0.0, bar_style='info', description='Progress:', layout=Layout(height='25px', width='50%'),…"
      ]
     },
     "metadata": {}
    },
    {
     "output_type": "stream",
     "name": "stdout",
     "text": [
      "'Read caption 📌\\n\\nThese ANGELS are constantly creating history, \"and there\\'s no looking back\"💪\\n.\\nGoshhh its day 3 and I can\\'t stop screaming about how much proud I am for our boys😭💜\\n.\\nThey were singing at dancing at UN headquarters , mann its not joke anymore \\nI proudly say this \"YES THEY ARE THE KINGS OF THIS ERA\"\\n.\\n.\\nPLEASE DON\\'T REPOST WITHOUT CREDITS 💮\\n.\\n\\n#btsatunga #unga #btsaspresidentenvoy #dramaqueen #BTS #taehyung\\n#v #namjoon #kimnamjoon #kimnamjoonkimseokjinminyoongijunghoseokparkjiminkimtaehyungjeonjungkookbts #jimin #jungkook #yoongi #hobi #hoseak #jin #seokjin #kpop #army #btsarmy #btsarmyforever #butter #btsbutter #hybe #hybelabels #buttermv #bangtanboys #btsedit #btslove #purpleyou💜'"
     ]
    }
   ],
   "metadata": {}
  },
  {
   "cell_type": "code",
   "execution_count": 157,
   "source": [
    "df_pd[\"hashtags\"] = df_pd.caption.apply(lambda x: find_hashtag(x))"
   ],
   "outputs": [
    {
     "output_type": "display_data",
     "data": {
      "application/vnd.jupyter.widget-view+json": {
       "model_id": "966537da35ac4c85800d6b1e6352aecf",
       "version_major": 2,
       "version_minor": 0
      },
      "text/plain": [
       "VBox()"
      ]
     },
     "metadata": {}
    },
    {
     "output_type": "display_data",
     "data": {
      "application/vnd.jupyter.widget-view+json": {
       "model_id": "",
       "version_major": 2,
       "version_minor": 0
      },
      "text/plain": [
       "FloatProgress(value=0.0, bar_style='info', description='Progress:', layout=Layout(height='25px', width='50%'),…"
      ]
     },
     "metadata": {}
    }
   ],
   "metadata": {}
  },
  {
   "cell_type": "code",
   "execution_count": 158,
   "source": [
    "df_pd[\"hashtags\"]"
   ],
   "outputs": [
    {
     "output_type": "display_data",
     "data": {
      "application/vnd.jupyter.widget-view+json": {
       "model_id": "09f5032e14db4e30977a4f4addd46b62",
       "version_major": 2,
       "version_minor": 0
      },
      "text/plain": [
       "VBox()"
      ]
     },
     "metadata": {}
    },
    {
     "output_type": "display_data",
     "data": {
      "application/vnd.jupyter.widget-view+json": {
       "model_id": "",
       "version_major": 2,
       "version_minor": 0
      },
      "text/plain": [
       "FloatProgress(value=0.0, bar_style='info', description='Progress:', layout=Layout(height='25px', width='50%'),…"
      ]
     },
     "metadata": {}
    },
    {
     "output_type": "stream",
     "name": "stdout",
     "text": [
      "0      [#btsatunga, #unga, #btsaspresidentenvoy, #dra...\n",
      "1      [#unitednations, #unga, #bts, #bangtanboys, #b...\n",
      "2      [#apple, #globalarmsembargo, #unga, #godmornin...\n",
      "3      [#Letkoakpin, #Natmauk, #globalarmsembargo, #s...\n",
      "4      [#peing, #nft, #emmys, #ps, #amici, #nowplayin...\n",
      "                             ...                        \n",
      "416    [#happyseungminday, #happybirthdayseungmin, #s...\n",
      "417    [#NFTcollectibles, #nftartgallery, #nftcollect...\n",
      "418              [#seungminstraykids, #seungminbirthday]\n",
      "419    [#Original, #song, #straykids, #straykidsseung...\n",
      "420                  [#jinyoung, #allrounderjinyoungday]\n",
      "Name: hashtags, Length: 421, dtype: object"
     ]
    }
   ],
   "metadata": {}
  },
  {
   "cell_type": "markdown",
   "source": [
    "### 2.0 Extract image deep features"
   ],
   "metadata": {}
  },
  {
   "cell_type": "code",
   "execution_count": 91,
   "source": [
    "# function to load image as tensor from url \n",
    "def get_image(url):\n",
    "    r = requests.get(url)\n",
    "    img = tf.io.decode_image(r.content)\n",
    "    return img "
   ],
   "outputs": [
    {
     "output_type": "display_data",
     "data": {
      "application/vnd.jupyter.widget-view+json": {
       "model_id": "1be5d64b7af445cb8630b99ecb8fd104",
       "version_major": 2,
       "version_minor": 0
      },
      "text/plain": [
       "VBox()"
      ]
     },
     "metadata": {}
    },
    {
     "output_type": "display_data",
     "data": {
      "application/vnd.jupyter.widget-view+json": {
       "model_id": "",
       "version_major": 2,
       "version_minor": 0
      },
      "text/plain": [
       "FloatProgress(value=0.0, bar_style='info', description='Progress:', layout=Layout(height='25px', width='50%'),…"
      ]
     },
     "metadata": {}
    }
   ],
   "metadata": {}
  },
  {
   "cell_type": "code",
   "execution_count": 159,
   "source": [
    "# Construct neural net to extract image features \n",
    "def construct_neural_network():\n",
    "    img_shape = (160, 160, 3)\n",
    "\n",
    "    # Create the base model from the pre-trained model MobileNet V2\n",
    "    base_model = MobileNetV2(input_shape=img_shape, include_top=False, weights='imagenet')\n",
    "\n",
    "    global_average_layer = tf.keras.layers.GlobalAveragePooling2D()\n",
    "\n",
    "    neural_network = tf.keras.Sequential([\n",
    "      base_model,\n",
    "      global_average_layer,\n",
    "    ])\n",
    "    \n",
    "    return neural_network"
   ],
   "outputs": [
    {
     "output_type": "display_data",
     "data": {
      "application/vnd.jupyter.widget-view+json": {
       "model_id": "8767d7b1fe9543069ea841114d9ef657",
       "version_major": 2,
       "version_minor": 0
      },
      "text/plain": [
       "VBox()"
      ]
     },
     "metadata": {}
    },
    {
     "output_type": "display_data",
     "data": {
      "application/vnd.jupyter.widget-view+json": {
       "model_id": "",
       "version_major": 2,
       "version_minor": 0
      },
      "text/plain": [
       "FloatProgress(value=0.0, bar_style='info', description='Progress:', layout=Layout(height='25px', width='50%'),…"
      ]
     },
     "metadata": {}
    }
   ],
   "metadata": {}
  },
  {
   "cell_type": "code",
   "execution_count": 160,
   "source": [
    "# extract features get the deep features from neural network to use later \n",
    "def extract_features(image, neural_network):\n",
    "    \"\"\"Return a vector of 1280 deep features for image.\"\"\"\n",
    "    images = np.expand_dims(image, axis=0)\n",
    "    deep_features = neural_network.predict(images)[0]\n",
    "    return deep_features"
   ],
   "outputs": [
    {
     "output_type": "display_data",
     "data": {
      "application/vnd.jupyter.widget-view+json": {
       "model_id": "c42dc7ade4434ed3aa077fd6d2c24260",
       "version_major": 2,
       "version_minor": 0
      },
      "text/plain": [
       "VBox()"
      ]
     },
     "metadata": {}
    },
    {
     "output_type": "display_data",
     "data": {
      "application/vnd.jupyter.widget-view+json": {
       "model_id": "",
       "version_major": 2,
       "version_minor": 0
      },
      "text/plain": [
       "FloatProgress(value=0.0, bar_style='info', description='Progress:', layout=Layout(height='25px', width='50%'),…"
      ]
     },
     "metadata": {}
    }
   ],
   "metadata": {}
  },
  {
   "cell_type": "code",
   "execution_count": 161,
   "source": [
    "# transform image to numpy arrays\n",
    "def prepare_image(img,height = 160,width = 160):\n",
    "    img = tf.cast(img, tf.float32)\n",
    "    img = (img/127.5) - 1\n",
    "    img = tf.image.resize(img, (height, width))\n",
    "    # Reshape grayscale images to match dimensions of color images\n",
    "    if img.shape != (160, 160, 3):\n",
    "        img = tf.concat([img, img, img], axis=2)\n",
    "    return img.numpy()"
   ],
   "outputs": [
    {
     "output_type": "display_data",
     "data": {
      "application/vnd.jupyter.widget-view+json": {
       "model_id": "d4aa92238f7a4b92ba1d927a2e0b83b9",
       "version_major": 2,
       "version_minor": 0
      },
      "text/plain": [
       "VBox()"
      ]
     },
     "metadata": {}
    },
    {
     "output_type": "display_data",
     "data": {
      "application/vnd.jupyter.widget-view+json": {
       "model_id": "",
       "version_major": 2,
       "version_minor": 0
      },
      "text/plain": [
       "FloatProgress(value=0.0, bar_style='info', description='Progress:', layout=Layout(height='25px', width='50%'),…"
      ]
     },
     "metadata": {}
    }
   ],
   "metadata": {}
  },
  {
   "cell_type": "code",
   "execution_count": 162,
   "source": [
    "# use for extract deep features directly from url\n",
    "def get_vector_url(url,neural_network):\n",
    "    image = prepare_image(get_image(url))\n",
    "    return extract_features(image,neural_network)\n",
    "\n",
    "# use for EMR notebook \n",
    "def get_vector_img(img,neural_network):\n",
    "    img = prepare_image(img)\n",
    "    return extract_features(img,neural_network)"
   ],
   "outputs": [
    {
     "output_type": "display_data",
     "data": {
      "application/vnd.jupyter.widget-view+json": {
       "model_id": "f63f4d324ea843cba16597efea30521c",
       "version_major": 2,
       "version_minor": 0
      },
      "text/plain": [
       "VBox()"
      ]
     },
     "metadata": {}
    },
    {
     "output_type": "display_data",
     "data": {
      "application/vnd.jupyter.widget-view+json": {
       "model_id": "",
       "version_major": 2,
       "version_minor": 0
      },
      "text/plain": [
       "FloatProgress(value=0.0, bar_style='info', description='Progress:', layout=Layout(height='25px', width='50%'),…"
      ]
     },
     "metadata": {}
    }
   ],
   "metadata": {}
  },
  {
   "cell_type": "code",
   "execution_count": 163,
   "source": [
    "df_pd[\"img_name\"] = df_pd.index.to_series().apply(lambda x: f\"img_{str(x)}\")"
   ],
   "outputs": [
    {
     "output_type": "display_data",
     "data": {
      "application/vnd.jupyter.widget-view+json": {
       "model_id": "955225f7a2b54488b1207d6a58dd6146",
       "version_major": 2,
       "version_minor": 0
      },
      "text/plain": [
       "VBox()"
      ]
     },
     "metadata": {}
    },
    {
     "output_type": "display_data",
     "data": {
      "application/vnd.jupyter.widget-view+json": {
       "model_id": "",
       "version_major": 2,
       "version_minor": 0
      },
      "text/plain": [
       "FloatProgress(value=0.0, bar_style='info', description='Progress:', layout=Layout(height='25px', width='50%'),…"
      ]
     },
     "metadata": {}
    }
   ],
   "metadata": {}
  },
  {
   "cell_type": "code",
   "execution_count": 164,
   "source": [
    "neural_net = construct_neural_network()"
   ],
   "outputs": [
    {
     "output_type": "display_data",
     "data": {
      "application/vnd.jupyter.widget-view+json": {
       "model_id": "ddf3d4da4f6b437da28c275b3c2b62de",
       "version_major": 2,
       "version_minor": 0
      },
      "text/plain": [
       "VBox()"
      ]
     },
     "metadata": {}
    },
    {
     "output_type": "display_data",
     "data": {
      "application/vnd.jupyter.widget-view+json": {
       "model_id": "",
       "version_major": 2,
       "version_minor": 0
      },
      "text/plain": [
       "FloatProgress(value=0.0, bar_style='info', description='Progress:', layout=Layout(height='25px', width='50%'),…"
      ]
     },
     "metadata": {}
    }
   ],
   "metadata": {}
  },
  {
   "cell_type": "code",
   "execution_count": 165,
   "source": [
    "def get_deep_feature(url,neural_net):\n",
    "    try:\n",
    "        return get_vector_url(url,neural_net)\n",
    "    except:\n",
    "        pass"
   ],
   "outputs": [
    {
     "output_type": "display_data",
     "data": {
      "application/vnd.jupyter.widget-view+json": {
       "model_id": "f54b3fd6f50d4df6a66d0e88c2931218",
       "version_major": 2,
       "version_minor": 0
      },
      "text/plain": [
       "VBox()"
      ]
     },
     "metadata": {}
    },
    {
     "output_type": "display_data",
     "data": {
      "application/vnd.jupyter.widget-view+json": {
       "model_id": "",
       "version_major": 2,
       "version_minor": 0
      },
      "text/plain": [
       "FloatProgress(value=0.0, bar_style='info', description='Progress:', layout=Layout(height='25px', width='50%'),…"
      ]
     },
     "metadata": {}
    }
   ],
   "metadata": {}
  },
  {
   "cell_type": "code",
   "execution_count": 166,
   "source": [
    "# funtion to loading the deep features from saved dataframe\n",
    "def create_deepfeatures(index,original_dataframe,saved_dataframe,neural_net):\n",
    "    if index <= saved_dataframe.index[-1]:\n",
    "        return saved_dataframe.loc[index,\"deep_feature\"]\n",
    "    else:\n",
    "        try:\n",
    "            url = original_dataframe.loc[index,\"image_url\"]\n",
    "            return get_deep_feature(url,neural_net)\n",
    "        except:\n",
    "            return np.zeros(1280)"
   ],
   "outputs": [
    {
     "output_type": "display_data",
     "data": {
      "application/vnd.jupyter.widget-view+json": {
       "model_id": "ff537be679f74969a120a77d66c3a213",
       "version_major": 2,
       "version_minor": 0
      },
      "text/plain": [
       "VBox()"
      ]
     },
     "metadata": {}
    },
    {
     "output_type": "display_data",
     "data": {
      "application/vnd.jupyter.widget-view+json": {
       "model_id": "",
       "version_major": 2,
       "version_minor": 0
      },
      "text/plain": [
       "FloatProgress(value=0.0, bar_style='info', description='Progress:', layout=Layout(height='25px', width='50%'),…"
      ]
     },
     "metadata": {}
    }
   ],
   "metadata": {}
  },
  {
   "cell_type": "code",
   "execution_count": 167,
   "source": [
    "# function to read csv file from bucket\n",
    "def read_csv_file(bucket,key):\n",
    "    obj = client.get_object(Bucket=bucket, Key=f'dataframe/{key}')\n",
    "    df = pd.read_csv(io.BytesIO(obj['Body'].read()))\n",
    "    return df"
   ],
   "outputs": [
    {
     "output_type": "display_data",
     "data": {
      "application/vnd.jupyter.widget-view+json": {
       "model_id": "eeae6c928a2049edb835a5700e9b298f",
       "version_major": 2,
       "version_minor": 0
      },
      "text/plain": [
       "VBox()"
      ]
     },
     "metadata": {}
    },
    {
     "output_type": "display_data",
     "data": {
      "application/vnd.jupyter.widget-view+json": {
       "model_id": "",
       "version_major": 2,
       "version_minor": 0
      },
      "text/plain": [
       "FloatProgress(value=0.0, bar_style='info', description='Progress:', layout=Layout(height='25px', width='50%'),…"
      ]
     },
     "metadata": {}
    }
   ],
   "metadata": {}
  },
  {
   "cell_type": "code",
   "execution_count": 168,
   "source": [
    "# function to write csv file to bucket\n",
    "def save_df(df,file_name):\n",
    "    bucket = \"kinesis-s3records-16jckkpyv314r\"\n",
    "    csv_buffer = StringIO()\n",
    "    df.to_csv(csv_buffer)\n",
    "\n",
    "    s3_resource = boto3.resource('s3')\n",
    "    s3_resource.Object(bucket, f'dataframe/{file_name}').put(Body=csv_buffer.getvalue())"
   ],
   "outputs": [
    {
     "output_type": "display_data",
     "data": {
      "application/vnd.jupyter.widget-view+json": {
       "model_id": "e7fd50dc08a54138ab3ffb85aca5b371",
       "version_major": 2,
       "version_minor": 0
      },
      "text/plain": [
       "VBox()"
      ]
     },
     "metadata": {}
    },
    {
     "output_type": "display_data",
     "data": {
      "application/vnd.jupyter.widget-view+json": {
       "model_id": "",
       "version_major": 2,
       "version_minor": 0
      },
      "text/plain": [
       "FloatProgress(value=0.0, bar_style='info', description='Progress:', layout=Layout(height='25px', width='50%'),…"
      ]
     },
     "metadata": {}
    }
   ],
   "metadata": {}
  },
  {
   "cell_type": "code",
   "execution_count": 169,
   "source": [
    "# load saved deep_features \n",
    "bucketname = \"kinesis-s3records-16jckkpyv314r\"\n",
    "keyname = \"df_deep_features.csv\"\n",
    "saved_df_features = read_csv_file(bucketname,keyname)\n",
    "\n",
    "saved_df_features[\"deep_feature\"] = saved_df_features[\"deep_feature\"].apply(lambda x: np.fromstring(x[1:-1],sep=\", \") )"
   ],
   "outputs": [
    {
     "output_type": "display_data",
     "data": {
      "application/vnd.jupyter.widget-view+json": {
       "model_id": "dad957119ee840199455d647ff80d44b",
       "version_major": 2,
       "version_minor": 0
      },
      "text/plain": [
       "VBox()"
      ]
     },
     "metadata": {}
    },
    {
     "output_type": "display_data",
     "data": {
      "application/vnd.jupyter.widget-view+json": {
       "model_id": "",
       "version_major": 2,
       "version_minor": 0
      },
      "text/plain": [
       "FloatProgress(value=0.0, bar_style='info', description='Progress:', layout=Layout(height='25px', width='50%'),…"
      ]
     },
     "metadata": {}
    }
   ],
   "metadata": {}
  },
  {
   "cell_type": "code",
   "execution_count": 170,
   "source": [
    "saved_df_features"
   ],
   "outputs": [
    {
     "output_type": "display_data",
     "data": {
      "application/vnd.jupyter.widget-view+json": {
       "model_id": "449ec7a7a9ed484083077a12afe4e0a8",
       "version_major": 2,
       "version_minor": 0
      },
      "text/plain": [
       "VBox()"
      ]
     },
     "metadata": {}
    },
    {
     "output_type": "display_data",
     "data": {
      "application/vnd.jupyter.widget-view+json": {
       "model_id": "",
       "version_major": 2,
       "version_minor": 0
      },
      "text/plain": [
       "FloatProgress(value=0.0, bar_style='info', description='Progress:', layout=Layout(height='25px', width='50%'),…"
      ]
     },
     "metadata": {}
    },
    {
     "output_type": "stream",
     "name": "stdout",
     "text": [
      "     Unnamed: 0  ...                                       deep_feature\n",
      "0             0  ...  [0.0, 0.0, 0.865784764289856, 0.00069944956339...\n",
      "1             1  ...  [0.879599928855896, 0.23585304617881775, 1.039...\n",
      "2             2  ...  [0.0, 0.0, 0.7003890872001648, 0.1560206115245...\n",
      "3             3  ...  [0.0075896806083619595, 0.0, 0.532040476799011...\n",
      "4             4  ...  [0.0, 0.11799856275320053, 0.0, 0.088474199175...\n",
      "..          ...  ...                                                ...\n",
      "416         416  ...  [0.06956370174884796, 0.039646413177251816, 0....\n",
      "417         417  ...  [3.126276969909668, 0.0, 0.0, 0.0, 0.209734916...\n",
      "418         418  ...  [0.15421395003795624, 0.655612051486969, 0.333...\n",
      "419         419  ...  [0.2562243640422821, 0.0, 0.0, 2.1857922077178...\n",
      "420         420  ...  [0.0, 0.0, 0.0, 3.2210769653320312, 1.97364747...\n",
      "\n",
      "[421 rows x 3 columns]"
     ]
    }
   ],
   "metadata": {}
  },
  {
   "cell_type": "code",
   "execution_count": 172,
   "source": [
    "df_pd[\"deep_feature\"] = df_pd.index.to_series().apply(lambda x:  create_deepfeatures(x, df_pd,saved_df_features ,neural_net))\n",
    "# df_pd[\"deep_feature\"] = df_pd.image_url.apply(lambda x: get_vector_url(x,neural_net))"
   ],
   "outputs": [
    {
     "output_type": "display_data",
     "data": {
      "application/vnd.jupyter.widget-view+json": {
       "model_id": "77d2ead8126a4d869955490aeddce905",
       "version_major": 2,
       "version_minor": 0
      },
      "text/plain": [
       "VBox()"
      ]
     },
     "metadata": {}
    },
    {
     "output_type": "display_data",
     "data": {
      "application/vnd.jupyter.widget-view+json": {
       "model_id": "",
       "version_major": 2,
       "version_minor": 0
      },
      "text/plain": [
       "FloatProgress(value=0.0, bar_style='info', description='Progress:', layout=Layout(height='25px', width='50%'),…"
      ]
     },
     "metadata": {}
    }
   ],
   "metadata": {}
  },
  {
   "cell_type": "code",
   "execution_count": 173,
   "source": [
    "df_pd[\"deep_feature\"] "
   ],
   "outputs": [
    {
     "output_type": "display_data",
     "data": {
      "application/vnd.jupyter.widget-view+json": {
       "model_id": "37d1bf669f584947ac8b7e86090efce4",
       "version_major": 2,
       "version_minor": 0
      },
      "text/plain": [
       "VBox()"
      ]
     },
     "metadata": {}
    },
    {
     "output_type": "display_data",
     "data": {
      "application/vnd.jupyter.widget-view+json": {
       "model_id": "",
       "version_major": 2,
       "version_minor": 0
      },
      "text/plain": [
       "FloatProgress(value=0.0, bar_style='info', description='Progress:', layout=Layout(height='25px', width='50%'),…"
      ]
     },
     "metadata": {}
    },
    {
     "output_type": "stream",
     "name": "stdout",
     "text": [
      "0      [0.0, 0.0, 0.865784764289856, 0.00069944956339...\n",
      "1      [0.879599928855896, 0.23585304617881775, 1.039...\n",
      "2      [0.0, 0.0, 0.7003890872001648, 0.1560206115245...\n",
      "3      [0.0075896806083619595, 0.0, 0.532040476799011...\n",
      "4      [0.0, 0.11799856275320053, 0.0, 0.088474199175...\n",
      "                             ...                        \n",
      "416    [0.06956370174884796, 0.039646413177251816, 0....\n",
      "417    [3.126276969909668, 0.0, 0.0, 0.0, 0.209734916...\n",
      "418    [0.15421395003795624, 0.655612051486969, 0.333...\n",
      "419    [0.2562243640422821, 0.0, 0.0, 2.1857922077178...\n",
      "420    [0.0, 0.0, 0.0, 3.2210769653320312, 1.97364747...\n",
      "Name: deep_feature, Length: 421, dtype: object"
     ]
    }
   ],
   "metadata": {}
  },
  {
   "cell_type": "code",
   "execution_count": 174,
   "source": [
    "df_proceed = df_pd[[\"hashtags\",\"deep_feature\"]]"
   ],
   "outputs": [
    {
     "output_type": "display_data",
     "data": {
      "application/vnd.jupyter.widget-view+json": {
       "model_id": "9f000adc1c4f4dbca4ec6fa3d0b3405d",
       "version_major": 2,
       "version_minor": 0
      },
      "text/plain": [
       "VBox()"
      ]
     },
     "metadata": {}
    },
    {
     "output_type": "display_data",
     "data": {
      "application/vnd.jupyter.widget-view+json": {
       "model_id": "",
       "version_major": 2,
       "version_minor": 0
      },
      "text/plain": [
       "FloatProgress(value=0.0, bar_style='info', description='Progress:', layout=Layout(height='25px', width='50%'),…"
      ]
     },
     "metadata": {}
    }
   ],
   "metadata": {}
  },
  {
   "cell_type": "code",
   "execution_count": 175,
   "source": [
    "df_save = df_proceed.copy()\n",
    "df_save[\"deep_feature\"] = df_save.deep_feature.apply(lambda x: str(x.tolist()))\n",
    "save_df(df_save,\"df_deep_features.csv\")"
   ],
   "outputs": [
    {
     "output_type": "display_data",
     "data": {
      "application/vnd.jupyter.widget-view+json": {
       "model_id": "b52e673879f5467486ad495b86c2e1c0",
       "version_major": 2,
       "version_minor": 0
      },
      "text/plain": [
       "VBox()"
      ]
     },
     "metadata": {}
    },
    {
     "output_type": "display_data",
     "data": {
      "application/vnd.jupyter.widget-view+json": {
       "model_id": "",
       "version_major": 2,
       "version_minor": 0
      },
      "text/plain": [
       "FloatProgress(value=0.0, bar_style='info', description='Progress:', layout=Layout(height='25px', width='50%'),…"
      ]
     },
     "metadata": {}
    }
   ],
   "metadata": {}
  },
  {
   "cell_type": "markdown",
   "source": [
    "### 3.0 load addition dataset "
   ],
   "metadata": {}
  },
  {
   "cell_type": "code",
   "execution_count": 176,
   "source": [
    "# load the additional data\n",
    "df_add_Data = read_csv_file(bucketname,\"df_add.csv\")"
   ],
   "outputs": [
    {
     "output_type": "display_data",
     "data": {
      "application/vnd.jupyter.widget-view+json": {
       "model_id": "958092a466464b5185c4da8ac3f54185",
       "version_major": 2,
       "version_minor": 0
      },
      "text/plain": [
       "VBox()"
      ]
     },
     "metadata": {}
    },
    {
     "output_type": "display_data",
     "data": {
      "application/vnd.jupyter.widget-view+json": {
       "model_id": "",
       "version_major": 2,
       "version_minor": 0
      },
      "text/plain": [
       "FloatProgress(value=0.0, bar_style='info', description='Progress:', layout=Layout(height='25px', width='50%'),…"
      ]
     },
     "metadata": {}
    }
   ],
   "metadata": {}
  },
  {
   "cell_type": "code",
   "execution_count": 177,
   "source": [
    "df_add_Data.columns"
   ],
   "outputs": [
    {
     "output_type": "display_data",
     "data": {
      "application/vnd.jupyter.widget-view+json": {
       "model_id": "5070a4227d4b4699a91d9e7dda0b5ab6",
       "version_major": 2,
       "version_minor": 0
      },
      "text/plain": [
       "VBox()"
      ]
     },
     "metadata": {}
    },
    {
     "output_type": "display_data",
     "data": {
      "application/vnd.jupyter.widget-view+json": {
       "model_id": "",
       "version_major": 2,
       "version_minor": 0
      },
      "text/plain": [
       "FloatProgress(value=0.0, bar_style='info', description='Progress:', layout=Layout(height='25px', width='50%'),…"
      ]
     },
     "metadata": {}
    },
    {
     "output_type": "stream",
     "name": "stdout",
     "text": [
      "Index(['Unnamed: 0', 'hashtags', 'deep_feature'], dtype='object')"
     ]
    }
   ],
   "metadata": {}
  },
  {
   "cell_type": "code",
   "execution_count": 178,
   "source": [
    "df_add_Data.iloc[0]"
   ],
   "outputs": [
    {
     "output_type": "display_data",
     "data": {
      "application/vnd.jupyter.widget-view+json": {
       "model_id": "5b197b11160d4e78b73f87bf18e72401",
       "version_major": 2,
       "version_minor": 0
      },
      "text/plain": [
       "VBox()"
      ]
     },
     "metadata": {}
    },
    {
     "output_type": "display_data",
     "data": {
      "application/vnd.jupyter.widget-view+json": {
       "model_id": "",
       "version_major": 2,
       "version_minor": 0
      },
      "text/plain": [
       "FloatProgress(value=0.0, bar_style='info', description='Progress:', layout=Layout(height='25px', width='50%'),…"
      ]
     },
     "metadata": {}
    },
    {
     "output_type": "stream",
     "name": "stdout",
     "text": [
      "Unnamed: 0                                                      0\n",
      "hashtags        ['#travelcalifornia', '#traveling', '#travelli...\n",
      "deep_feature    [0.7958510518074036, 1.4362449645996094, 0.0, ...\n",
      "Name: 0, dtype: object"
     ]
    }
   ],
   "metadata": {}
  },
  {
   "cell_type": "code",
   "execution_count": 179,
   "source": [
    "df_add_Data[\"deep_feature\"] = df_add_Data.deep_feature.apply(lambda x: np.fromstring(x[1:-1],sep =\",\"))"
   ],
   "outputs": [
    {
     "output_type": "display_data",
     "data": {
      "application/vnd.jupyter.widget-view+json": {
       "model_id": "0e3c001830a84d57a75f412a840b839e",
       "version_major": 2,
       "version_minor": 0
      },
      "text/plain": [
       "VBox()"
      ]
     },
     "metadata": {}
    },
    {
     "output_type": "display_data",
     "data": {
      "application/vnd.jupyter.widget-view+json": {
       "model_id": "",
       "version_major": 2,
       "version_minor": 0
      },
      "text/plain": [
       "FloatProgress(value=0.0, bar_style='info', description='Progress:', layout=Layout(height='25px', width='50%'),…"
      ]
     },
     "metadata": {}
    }
   ],
   "metadata": {}
  },
  {
   "cell_type": "code",
   "execution_count": 180,
   "source": [
    "df_add_Data[\"hashtags\"] = df_add_Data.hashtags.apply(lambda x: ast.literal_eval(x))"
   ],
   "outputs": [
    {
     "output_type": "display_data",
     "data": {
      "application/vnd.jupyter.widget-view+json": {
       "model_id": "1ea32938b83148858bd0e94de5c9cbfb",
       "version_major": 2,
       "version_minor": 0
      },
      "text/plain": [
       "VBox()"
      ]
     },
     "metadata": {}
    },
    {
     "output_type": "display_data",
     "data": {
      "application/vnd.jupyter.widget-view+json": {
       "model_id": "",
       "version_major": 2,
       "version_minor": 0
      },
      "text/plain": [
       "FloatProgress(value=0.0, bar_style='info', description='Progress:', layout=Layout(height='25px', width='50%'),…"
      ]
     },
     "metadata": {}
    }
   ],
   "metadata": {}
  },
  {
   "cell_type": "code",
   "execution_count": 181,
   "source": [
    "df_add_Data[\"deep_feature\"][0]"
   ],
   "outputs": [
    {
     "output_type": "display_data",
     "data": {
      "application/vnd.jupyter.widget-view+json": {
       "model_id": "f40f59085670429683b85e420d779b49",
       "version_major": 2,
       "version_minor": 0
      },
      "text/plain": [
       "VBox()"
      ]
     },
     "metadata": {}
    },
    {
     "output_type": "display_data",
     "data": {
      "application/vnd.jupyter.widget-view+json": {
       "model_id": "",
       "version_major": 2,
       "version_minor": 0
      },
      "text/plain": [
       "FloatProgress(value=0.0, bar_style='info', description='Progress:', layout=Layout(height='25px', width='50%'),…"
      ]
     },
     "metadata": {}
    },
    {
     "output_type": "stream",
     "name": "stdout",
     "text": [
      "array([0.79585105, 1.43624496, 0.        , ..., 0.86633819, 1.60301924,\n",
      "       0.3259587 ])"
     ]
    }
   ],
   "metadata": {}
  },
  {
   "cell_type": "code",
   "execution_count": 182,
   "source": [
    "df_add_Data[\"hashtags\"][0]"
   ],
   "outputs": [
    {
     "output_type": "display_data",
     "data": {
      "application/vnd.jupyter.widget-view+json": {
       "model_id": "a0ddc954c4544360bb8579b0ac678d85",
       "version_major": 2,
       "version_minor": 0
      },
      "text/plain": [
       "VBox()"
      ]
     },
     "metadata": {}
    },
    {
     "output_type": "display_data",
     "data": {
      "application/vnd.jupyter.widget-view+json": {
       "model_id": "",
       "version_major": 2,
       "version_minor": 0
      },
      "text/plain": [
       "FloatProgress(value=0.0, bar_style='info', description='Progress:', layout=Layout(height='25px', width='50%'),…"
      ]
     },
     "metadata": {}
    },
    {
     "output_type": "stream",
     "name": "stdout",
     "text": [
      "['#travelcalifornia', '#traveling', '#travellifecc', '#travels', '#traveladdict', '#traveler', '#travel', '#usatravel', '#destinations', '#californialife', '#instatravel', '#travelearth', '#usa', '#santamonica', '#californiatravel', '#explorecalifornia', '#travelgram', '#travelphotography', '#beautifulsunset', '#wonderfulsunset', '#wanderlust', '#photography', '#traveltheearth', '#santamonicabeach', '#travelearthu', '#travellife', '#travelblogger', '#santamonicaphotographer', '#traveltheworld', '#travelusa']"
     ]
    }
   ],
   "metadata": {}
  },
  {
   "cell_type": "code",
   "execution_count": 183,
   "source": [
    "df_use = pd.concat([df_proceed,df_add_Data],ignore_index = True)"
   ],
   "outputs": [
    {
     "output_type": "display_data",
     "data": {
      "application/vnd.jupyter.widget-view+json": {
       "model_id": "86e8cc9f5ce9414f87d90a2c2ac65da4",
       "version_major": 2,
       "version_minor": 0
      },
      "text/plain": [
       "VBox()"
      ]
     },
     "metadata": {}
    },
    {
     "output_type": "display_data",
     "data": {
      "application/vnd.jupyter.widget-view+json": {
       "model_id": "",
       "version_major": 2,
       "version_minor": 0
      },
      "text/plain": [
       "FloatProgress(value=0.0, bar_style='info', description='Progress:', layout=Layout(height='25px', width='50%'),…"
      ]
     },
     "metadata": {}
    }
   ],
   "metadata": {}
  },
  {
   "cell_type": "code",
   "execution_count": 184,
   "source": [
    "for i in df_use.columns:\n",
    "    if \"Unnamed\" in i:\n",
    "        del df_use[i]"
   ],
   "outputs": [
    {
     "output_type": "display_data",
     "data": {
      "application/vnd.jupyter.widget-view+json": {
       "model_id": "efd3cacd25194f89836b5f42529da7ae",
       "version_major": 2,
       "version_minor": 0
      },
      "text/plain": [
       "VBox()"
      ]
     },
     "metadata": {}
    },
    {
     "output_type": "display_data",
     "data": {
      "application/vnd.jupyter.widget-view+json": {
       "model_id": "",
       "version_major": 2,
       "version_minor": 0
      },
      "text/plain": [
       "FloatProgress(value=0.0, bar_style='info', description='Progress:', layout=Layout(height='25px', width='50%'),…"
      ]
     },
     "metadata": {}
    }
   ],
   "metadata": {}
  },
  {
   "cell_type": "code",
   "execution_count": 185,
   "source": [
    "df_use.columns"
   ],
   "outputs": [
    {
     "output_type": "display_data",
     "data": {
      "application/vnd.jupyter.widget-view+json": {
       "model_id": "5c6aab80f9ba458cb09ffe0a2f5230bd",
       "version_major": 2,
       "version_minor": 0
      },
      "text/plain": [
       "VBox()"
      ]
     },
     "metadata": {}
    },
    {
     "output_type": "display_data",
     "data": {
      "application/vnd.jupyter.widget-view+json": {
       "model_id": "",
       "version_major": 2,
       "version_minor": 0
      },
      "text/plain": [
       "FloatProgress(value=0.0, bar_style='info', description='Progress:', layout=Layout(height='25px', width='50%'),…"
      ]
     },
     "metadata": {}
    },
    {
     "output_type": "stream",
     "name": "stdout",
     "text": [
      "Index(['deep_feature', 'hashtags'], dtype='object')"
     ]
    }
   ],
   "metadata": {}
  },
  {
   "cell_type": "code",
   "execution_count": 186,
   "source": [
    "df_save = df_use.copy()\n",
    "df_save[\"deep_feature\"] = df_save.deep_feature.apply(lambda x: str(x.tolist()))\n",
    "save_df(df_save,\"df_features.csv\")"
   ],
   "outputs": [
    {
     "output_type": "display_data",
     "data": {
      "application/vnd.jupyter.widget-view+json": {
       "model_id": "919e48c74a7548279ea4b9afd3a772ff",
       "version_major": 2,
       "version_minor": 0
      },
      "text/plain": [
       "VBox()"
      ]
     },
     "metadata": {}
    },
    {
     "output_type": "display_data",
     "data": {
      "application/vnd.jupyter.widget-view+json": {
       "model_id": "",
       "version_major": 2,
       "version_minor": 0
      },
      "text/plain": [
       "FloatProgress(value=0.0, bar_style='info', description='Progress:', layout=Layout(height='25px', width='50%'),…"
      ]
     },
     "metadata": {}
    }
   ],
   "metadata": {}
  },
  {
   "cell_type": "markdown",
   "source": [
    "### 4.0 Construct hashtags datasets for training als model "
   ],
   "metadata": {}
  },
  {
   "cell_type": "code",
   "execution_count": 187,
   "source": [
    "# Create a flattened list of all hashtags\n",
    "all_hashtags = [hashtag for hashtags in df_use['hashtags'] for hashtag in hashtags]\n",
    "\n",
    "# Coerce to a set to remove duplicate entries\n",
    "# Sort to ensure reproducibility of results\n",
    "all_hashtags = sorted(list(set(all_hashtags)))\n",
    "\n",
    "# Build lookup for finding hashtag number based on hashtag name\n",
    "hashtag_lookup = {hashtag: i for i, hashtag in enumerate(all_hashtags)}"
   ],
   "outputs": [
    {
     "output_type": "display_data",
     "data": {
      "application/vnd.jupyter.widget-view+json": {
       "model_id": "d8a99677e3ee4c77b96fe9b9c1d0e3bb",
       "version_major": 2,
       "version_minor": 0
      },
      "text/plain": [
       "VBox()"
      ]
     },
     "metadata": {}
    },
    {
     "output_type": "display_data",
     "data": {
      "application/vnd.jupyter.widget-view+json": {
       "model_id": "",
       "version_major": 2,
       "version_minor": 0
      },
      "text/plain": [
       "FloatProgress(value=0.0, bar_style='info', description='Progress:', layout=Layout(height='25px', width='50%'),…"
      ]
     },
     "metadata": {}
    }
   ],
   "metadata": {}
  },
  {
   "cell_type": "code",
   "execution_count": 188,
   "source": [
    "# create dataframe to save all hashtags\n",
    "hashtags_df = pd.DataFrame.from_dict(hashtag_lookup, orient='index')\n",
    "hashtags_df.head()"
   ],
   "outputs": [
    {
     "output_type": "display_data",
     "data": {
      "application/vnd.jupyter.widget-view+json": {
       "model_id": "3a78bc86be6c4d7990ce0a0b5a1d3f11",
       "version_major": 2,
       "version_minor": 0
      },
      "text/plain": [
       "VBox()"
      ]
     },
     "metadata": {}
    },
    {
     "output_type": "display_data",
     "data": {
      "application/vnd.jupyter.widget-view+json": {
       "model_id": "",
       "version_major": 2,
       "version_minor": 0
      },
      "text/plain": [
       "FloatProgress(value=0.0, bar_style='info', description='Progress:', layout=Layout(height='25px', width='50%'),…"
      ]
     },
     "metadata": {}
    },
    {
     "output_type": "stream",
     "name": "stdout",
     "text": [
      "             0\n",
      "#A           0\n",
      "#ABURTOTEAM  1\n",
      "#ADORABLE    2\n",
      "#AFAA        3\n",
      "#AMG         4"
     ]
    }
   ],
   "metadata": {}
  },
  {
   "cell_type": "code",
   "execution_count": 189,
   "source": [
    "hashtags_df = hashtags_df.reset_index()\n",
    "hashtags_df.columns = ['hashtag', 'id']\n",
    "hashtags_df.index = hashtags_df['id']\n",
    "hashtags_df.drop('id', axis=1, inplace=True)\n",
    "hashtags_df"
   ],
   "outputs": [
    {
     "output_type": "display_data",
     "data": {
      "application/vnd.jupyter.widget-view+json": {
       "model_id": "13ecf311fb8e481a9cb01385e0c4509c",
       "version_major": 2,
       "version_minor": 0
      },
      "text/plain": [
       "VBox()"
      ]
     },
     "metadata": {}
    },
    {
     "output_type": "display_data",
     "data": {
      "application/vnd.jupyter.widget-view+json": {
       "model_id": "",
       "version_major": 2,
       "version_minor": 0
      },
      "text/plain": [
       "FloatProgress(value=0.0, bar_style='info', description='Progress:', layout=Layout(height='25px', width='50%'),…"
      ]
     },
     "metadata": {}
    },
    {
     "output_type": "stream",
     "name": "stdout",
     "text": [
      "               hashtag\n",
      "id                    \n",
      "0                   #A\n",
      "1          #ABURTOTEAM\n",
      "2            #ADORABLE\n",
      "3                #AFAA\n",
      "4                 #AMG\n",
      "...                ...\n",
      "20409  #zwergkaninchen\n",
      "20410      #zwergspitz\n",
      "20411     #zwergwidder\n",
      "20412          #zwierz\n",
      "20413          #zyklus\n",
      "\n",
      "[20414 rows x 1 columns]"
     ]
    }
   ],
   "metadata": {}
  },
  {
   "cell_type": "code",
   "execution_count": 190,
   "source": [
    "# save the hashtags\n",
    "save_df(hashtags_df,\"hashtags.csv\")"
   ],
   "outputs": [
    {
     "output_type": "display_data",
     "data": {
      "application/vnd.jupyter.widget-view+json": {
       "model_id": "c8766f4a2fa7470e88d05d7935ab82a2",
       "version_major": 2,
       "version_minor": 0
      },
      "text/plain": [
       "VBox()"
      ]
     },
     "metadata": {}
    },
    {
     "output_type": "display_data",
     "data": {
      "application/vnd.jupyter.widget-view+json": {
       "model_id": "",
       "version_major": 2,
       "version_minor": 0
      },
      "text/plain": [
       "FloatProgress(value=0.0, bar_style='info', description='Progress:', layout=Layout(height='25px', width='50%'),…"
      ]
     },
     "metadata": {}
    }
   ],
   "metadata": {}
  },
  {
   "cell_type": "code",
   "execution_count": 191,
   "source": [
    "# construct dataframe for recsys of hashtag_id and image_id \n",
    "hashtag_rec_data = []\n",
    "for i in df_use.index:\n",
    "    hashtag_list = df_use.loc[i, 'hashtags']\n",
    "    for hashtag in hashtag_list:\n",
    "        hashtag_rec_data.append(\n",
    "            {'image_id': i,\n",
    "             'hashtag_id': hashtag_lookup[hashtag],\n",
    "             'rating': 1}\n",
    "        )\n",
    "hashtag_rec_data_df = pd.DataFrame(hashtag_rec_data)\n",
    "hashtag_rec_data_df.tail()"
   ],
   "outputs": [
    {
     "output_type": "display_data",
     "data": {
      "application/vnd.jupyter.widget-view+json": {
       "model_id": "d0a8b1aa518b45e8b6235d6c3926b2fb",
       "version_major": 2,
       "version_minor": 0
      },
      "text/plain": [
       "VBox()"
      ]
     },
     "metadata": {}
    },
    {
     "output_type": "display_data",
     "data": {
      "application/vnd.jupyter.widget-view+json": {
       "model_id": "",
       "version_major": 2,
       "version_minor": 0
      },
      "text/plain": [
       "FloatProgress(value=0.0, bar_style='info', description='Progress:', layout=Layout(height='25px', width='50%'),…"
      ]
     },
     "metadata": {}
    },
    {
     "output_type": "stream",
     "name": "stdout",
     "text": [
      "       image_id  hashtag_id  rating\n",
      "64356      3411        3986       1\n",
      "64357      3411         692       1\n",
      "64358      3411       14763       1\n",
      "64359      3411       14791       1\n",
      "64360      3411        9507       1"
     ]
    }
   ],
   "metadata": {}
  },
  {
   "cell_type": "code",
   "execution_count": 192,
   "source": [
    "# save the recommendation dataframe of hashtags\n",
    "save_df(hashtag_rec_data_df,\"rec_hashtags.csv\")"
   ],
   "outputs": [
    {
     "output_type": "display_data",
     "data": {
      "application/vnd.jupyter.widget-view+json": {
       "model_id": "e5bde9b39ecd4eb984842086c4beed93",
       "version_major": 2,
       "version_minor": 0
      },
      "text/plain": [
       "VBox()"
      ]
     },
     "metadata": {}
    },
    {
     "output_type": "display_data",
     "data": {
      "application/vnd.jupyter.widget-view+json": {
       "model_id": "",
       "version_major": 2,
       "version_minor": 0
      },
      "text/plain": [
       "FloatProgress(value=0.0, bar_style='info', description='Progress:', layout=Layout(height='25px', width='50%'),…"
      ]
     },
     "metadata": {}
    }
   ],
   "metadata": {}
  },
  {
   "cell_type": "markdown",
   "source": [
    "### 5.0 Training the ALS model"
   ],
   "metadata": {}
  },
  {
   "cell_type": "code",
   "execution_count": 125,
   "source": [
    "als = ALS(userCol='image_id',\n",
    "          itemCol='hashtag_id',\n",
    "          implicitPrefs=True,\n",
    "          alpha=40)\n",
    "\n",
    "als.setSeed(0)"
   ],
   "outputs": [
    {
     "output_type": "display_data",
     "data": {
      "application/vnd.jupyter.widget-view+json": {
       "model_id": "2b4c3b5472b84714824b38e1bacfb12c",
       "version_major": 2,
       "version_minor": 0
      },
      "text/plain": [
       "VBox()"
      ]
     },
     "metadata": {}
    },
    {
     "output_type": "display_data",
     "data": {
      "application/vnd.jupyter.widget-view+json": {
       "model_id": "",
       "version_major": 2,
       "version_minor": 0
      },
      "text/plain": [
       "FloatProgress(value=0.0, bar_style='info', description='Progress:', layout=Layout(height='25px', width='50%'),…"
      ]
     },
     "metadata": {}
    },
    {
     "output_type": "stream",
     "name": "stdout",
     "text": [
      "ALS_495840bb4a26"
     ]
    }
   ],
   "metadata": {}
  },
  {
   "cell_type": "code",
   "execution_count": 193,
   "source": [
    "sqlcontext = SQLContext(sc)"
   ],
   "outputs": [
    {
     "output_type": "display_data",
     "data": {
      "application/vnd.jupyter.widget-view+json": {
       "model_id": "90963c26b6f447f0b98a84a3fc7be7b2",
       "version_major": 2,
       "version_minor": 0
      },
      "text/plain": [
       "VBox()"
      ]
     },
     "metadata": {}
    },
    {
     "output_type": "display_data",
     "data": {
      "application/vnd.jupyter.widget-view+json": {
       "model_id": "",
       "version_major": 2,
       "version_minor": 0
      },
      "text/plain": [
       "FloatProgress(value=0.0, bar_style='info', description='Progress:', layout=Layout(height='25px', width='50%'),…"
      ]
     },
     "metadata": {}
    }
   ],
   "metadata": {}
  },
  {
   "cell_type": "code",
   "execution_count": 194,
   "source": [
    "rec_hashtags = sqlcontext.read.csv(\"s3://kinesis-s3records-16jckkpyv314r/dataframe/rec_hashtags.csv\",header = True)"
   ],
   "outputs": [
    {
     "output_type": "display_data",
     "data": {
      "application/vnd.jupyter.widget-view+json": {
       "model_id": "e847b1565a9a41d38c2d1c375b8ac6dd",
       "version_major": 2,
       "version_minor": 0
      },
      "text/plain": [
       "VBox()"
      ]
     },
     "metadata": {}
    },
    {
     "output_type": "display_data",
     "data": {
      "application/vnd.jupyter.widget-view+json": {
       "model_id": "",
       "version_major": 2,
       "version_minor": 0
      },
      "text/plain": [
       "FloatProgress(value=0.0, bar_style='info', description='Progress:', layout=Layout(height='25px', width='50%'),…"
      ]
     },
     "metadata": {}
    }
   ],
   "metadata": {}
  },
  {
   "cell_type": "code",
   "execution_count": 195,
   "source": [
    "rec_hashtags.show()"
   ],
   "outputs": [
    {
     "output_type": "display_data",
     "data": {
      "application/vnd.jupyter.widget-view+json": {
       "model_id": "e66ea0cde925495095f2b16fb218bfdc",
       "version_major": 2,
       "version_minor": 0
      },
      "text/plain": [
       "VBox()"
      ]
     },
     "metadata": {}
    },
    {
     "output_type": "display_data",
     "data": {
      "application/vnd.jupyter.widget-view+json": {
       "model_id": "",
       "version_major": 2,
       "version_minor": 0
      },
      "text/plain": [
       "FloatProgress(value=0.0, bar_style='info', description='Progress:', layout=Layout(height='25px', width='50%'),…"
      ]
     },
     "metadata": {}
    },
    {
     "output_type": "stream",
     "name": "stdout",
     "text": [
      "+---+--------+----------+------+\n",
      "|_c0|image_id|hashtag_id|rating|\n",
      "+---+--------+----------+------+\n",
      "|  0|       0|      3885|     1|\n",
      "|  1|       0|     18975|     1|\n",
      "|  2|       0|      3883|     1|\n",
      "|  3|       0|      6411|     1|\n",
      "|  4|       0|        76|     1|\n",
      "|  5|       0|     17922|     1|\n",
      "|  6|       0|     19082|     1|\n",
      "|  7|       0|     13294|     1|\n",
      "|  8|       0|     10816|     1|\n",
      "|  9|       0|     10817|     1|\n",
      "| 10|       0|     10478|     1|\n",
      "| 11|       0|     10537|     1|\n",
      "| 12|       0|     20287|     1|\n",
      "| 13|       0|      9307|     1|\n",
      "| 14|       0|      9433|     1|\n",
      "| 15|       0|     10481|     1|\n",
      "| 16|       0|     16645|     1|\n",
      "| 17|       0|     10952|     1|\n",
      "| 18|       0|      2101|     1|\n",
      "| 19|       0|      3879|     1|\n",
      "+---+--------+----------+------+\n",
      "only showing top 20 rows"
     ]
    }
   ],
   "metadata": {}
  },
  {
   "cell_type": "code",
   "execution_count": 196,
   "source": [
    "rec_hashtags.count()"
   ],
   "outputs": [
    {
     "output_type": "display_data",
     "data": {
      "application/vnd.jupyter.widget-view+json": {
       "model_id": "0c6e1b96d0fe4dae8be4bcf1826116b0",
       "version_major": 2,
       "version_minor": 0
      },
      "text/plain": [
       "VBox()"
      ]
     },
     "metadata": {}
    },
    {
     "output_type": "display_data",
     "data": {
      "application/vnd.jupyter.widget-view+json": {
       "model_id": "",
       "version_major": 2,
       "version_minor": 0
      },
      "text/plain": [
       "FloatProgress(value=0.0, bar_style='info', description='Progress:', layout=Layout(height='25px', width='50%'),…"
      ]
     },
     "metadata": {}
    },
    {
     "output_type": "stream",
     "name": "stdout",
     "text": [
      "64361"
     ]
    }
   ],
   "metadata": {}
  },
  {
   "cell_type": "code",
   "execution_count": 197,
   "source": [
    "rec_hashtags.toPandas().tail(4)"
   ],
   "outputs": [
    {
     "output_type": "display_data",
     "data": {
      "application/vnd.jupyter.widget-view+json": {
       "model_id": "ab6ebe07a11044e99e56e130e5d991d4",
       "version_major": 2,
       "version_minor": 0
      },
      "text/plain": [
       "VBox()"
      ]
     },
     "metadata": {}
    },
    {
     "output_type": "display_data",
     "data": {
      "application/vnd.jupyter.widget-view+json": {
       "model_id": "",
       "version_major": 2,
       "version_minor": 0
      },
      "text/plain": [
       "FloatProgress(value=0.0, bar_style='info', description='Progress:', layout=Layout(height='25px', width='50%'),…"
      ]
     },
     "metadata": {}
    },
    {
     "output_type": "stream",
     "name": "stdout",
     "text": [
      "         _c0 image_id hashtag_id rating\n",
      "64357  64357     3411        692      1\n",
      "64358  64358     3411      14763      1\n",
      "64359  64359     3411      14791      1\n",
      "64360  64360     3411       9507      1"
     ]
    }
   ],
   "metadata": {}
  },
  {
   "cell_type": "code",
   "execution_count": 198,
   "source": [
    "rec_hashtags.printSchema()"
   ],
   "outputs": [
    {
     "output_type": "display_data",
     "data": {
      "application/vnd.jupyter.widget-view+json": {
       "model_id": "b8a3fc8dadbe43e08e7d96987e7e59f9",
       "version_major": 2,
       "version_minor": 0
      },
      "text/plain": [
       "VBox()"
      ]
     },
     "metadata": {}
    },
    {
     "output_type": "display_data",
     "data": {
      "application/vnd.jupyter.widget-view+json": {
       "model_id": "",
       "version_major": 2,
       "version_minor": 0
      },
      "text/plain": [
       "FloatProgress(value=0.0, bar_style='info', description='Progress:', layout=Layout(height='25px', width='50%'),…"
      ]
     },
     "metadata": {}
    },
    {
     "output_type": "stream",
     "name": "stdout",
     "text": [
      "root\n",
      " |-- _c0: string (nullable = true)\n",
      " |-- image_id: string (nullable = true)\n",
      " |-- hashtag_id: string (nullable = true)\n",
      " |-- rating: string (nullable = true)"
     ]
    }
   ],
   "metadata": {}
  },
  {
   "cell_type": "code",
   "execution_count": 199,
   "source": [
    "# cast the features to the right data type\n",
    "for i in [\"image_id\",\"hashtag_id\",\"rating\"]:\n",
    "    rec_hashtags = rec_hashtags.withColumn(i, rec_hashtags[i].cast(IntegerType()))"
   ],
   "outputs": [
    {
     "output_type": "display_data",
     "data": {
      "application/vnd.jupyter.widget-view+json": {
       "model_id": "2b060b647cc140b296ce377001a9a9e6",
       "version_major": 2,
       "version_minor": 0
      },
      "text/plain": [
       "VBox()"
      ]
     },
     "metadata": {}
    },
    {
     "output_type": "display_data",
     "data": {
      "application/vnd.jupyter.widget-view+json": {
       "model_id": "",
       "version_major": 2,
       "version_minor": 0
      },
      "text/plain": [
       "FloatProgress(value=0.0, bar_style='info', description='Progress:', layout=Layout(height='25px', width='50%'),…"
      ]
     },
     "metadata": {}
    }
   ],
   "metadata": {}
  },
  {
   "cell_type": "code",
   "execution_count": 200,
   "source": [
    "# fit the model\n",
    "als_model = als.fit(rec_hashtags)"
   ],
   "outputs": [
    {
     "output_type": "display_data",
     "data": {
      "application/vnd.jupyter.widget-view+json": {
       "model_id": "7bb6bf7fee3e4e6286d3efffdc4a2fa1",
       "version_major": 2,
       "version_minor": 0
      },
      "text/plain": [
       "VBox()"
      ]
     },
     "metadata": {}
    },
    {
     "output_type": "display_data",
     "data": {
      "application/vnd.jupyter.widget-view+json": {
       "model_id": "",
       "version_major": 2,
       "version_minor": 0
      },
      "text/plain": [
       "FloatProgress(value=0.0, bar_style='info', description='Progress:', layout=Layout(height='25px', width='50%'),…"
      ]
     },
     "metadata": {}
    }
   ],
   "metadata": {}
  },
  {
   "cell_type": "code",
   "execution_count": 201,
   "source": [
    "# get image and hashtags features extracted from als\n",
    "img_features = als_model.userFactors.toPandas()\n",
    "hashtag_features = als_model.itemFactors.toPandas()"
   ],
   "outputs": [
    {
     "output_type": "display_data",
     "data": {
      "application/vnd.jupyter.widget-view+json": {
       "model_id": "2694be18071b418b944bf7004aa78b3e",
       "version_major": 2,
       "version_minor": 0
      },
      "text/plain": [
       "VBox()"
      ]
     },
     "metadata": {}
    },
    {
     "output_type": "display_data",
     "data": {
      "application/vnd.jupyter.widget-view+json": {
       "model_id": "",
       "version_major": 2,
       "version_minor": 0
      },
      "text/plain": [
       "FloatProgress(value=0.0, bar_style='info', description='Progress:', layout=Layout(height='25px', width='50%'),…"
      ]
     },
     "metadata": {}
    }
   ],
   "metadata": {}
  },
  {
   "cell_type": "code",
   "execution_count": 202,
   "source": [
    "# set id to become the features dataframes index\n",
    "img_features = img_features.set_index(\"id\")\n",
    "hashtag_features = hashtag_features.set_index(\"id\")\n",
    "\n",
    "# save the features\n",
    "img_features_save = img_features.copy()\n",
    "hashtag_features_save = hashtag_features.copy()\n",
    "img_features_save[\"features\"] = img_features_save[\"features\"].apply(lambda x:str(x))\n",
    "hashtag_features_save[\"features\"] = hashtag_features_save[\"features\"].apply(lambda x:str(x))\n",
    "\n",
    "# save features for later used \n",
    "save_df(img_features_save,\"img_features.csv\")\n",
    "save_df(hashtag_features_save,\"hashtag_features.csv\")"
   ],
   "outputs": [
    {
     "output_type": "display_data",
     "data": {
      "application/vnd.jupyter.widget-view+json": {
       "model_id": "d41f3183826b4192af903b46330f3772",
       "version_major": 2,
       "version_minor": 0
      },
      "text/plain": [
       "VBox()"
      ]
     },
     "metadata": {}
    },
    {
     "output_type": "display_data",
     "data": {
      "application/vnd.jupyter.widget-view+json": {
       "model_id": "",
       "version_major": 2,
       "version_minor": 0
      },
      "text/plain": [
       "FloatProgress(value=0.0, bar_style='info', description='Progress:', layout=Layout(height='25px', width='50%'),…"
      ]
     },
     "metadata": {}
    }
   ],
   "metadata": {}
  },
  {
   "cell_type": "markdown",
   "source": [
    "# 6.0 function to predict the hashtags"
   ],
   "metadata": {}
  },
  {
   "cell_type": "code",
   "execution_count": 203,
   "source": [
    "# helper function for image hashtag generators\n",
    "def find_neighbor_vectors(features,recommender_df, k=5):\n",
    "    \"\"\"Find image features (user vectors) for similar images.\"\"\"\n",
    "    rdf = recommender_df.copy()\n",
    "    rdf['dist'] = rdf['deep_feature'].apply(lambda x: cosine(x, features))\n",
    "    rdf = rdf.sort_values(by='dist')\n",
    "    return rdf.head(k)"
   ],
   "outputs": [
    {
     "output_type": "display_data",
     "data": {
      "application/vnd.jupyter.widget-view+json": {
       "model_id": "4ca0838ba89a4bb7a3996a94d6032163",
       "version_major": 2,
       "version_minor": 0
      },
      "text/plain": [
       "VBox()"
      ]
     },
     "metadata": {}
    },
    {
     "output_type": "display_data",
     "data": {
      "application/vnd.jupyter.widget-view+json": {
       "model_id": "",
       "version_major": 2,
       "version_minor": 0
      },
      "text/plain": [
       "FloatProgress(value=0.0, bar_style='info', description='Progress:', layout=Layout(height='25px', width='50%'),…"
      ]
     },
     "metadata": {}
    }
   ],
   "metadata": {}
  },
  {
   "cell_type": "code",
   "execution_count": 204,
   "source": [
    "# helper function to load image from s3 \n",
    "def fetch_image_from_s3_to_array(client,bucket, key):\n",
    "    \"\"\"Fetches an image from S3 and returns a numpy array.\"\"\"\n",
    "    response = client.get_object(Bucket=bucket, Key=key)\n",
    "    body = response[\"Body\"]\n",
    "    data = body.read()\n",
    "    f = BytesIO(data)\n",
    "    image = Image.open(f)\n",
    "    image_data = np.asarray(image)\n",
    "    return image_data\n",
    "    "
   ],
   "outputs": [
    {
     "output_type": "display_data",
     "data": {
      "application/vnd.jupyter.widget-view+json": {
       "model_id": "7634ee06fd3f4227820a60505d74910a",
       "version_major": 2,
       "version_minor": 0
      },
      "text/plain": [
       "VBox()"
      ]
     },
     "metadata": {}
    },
    {
     "output_type": "display_data",
     "data": {
      "application/vnd.jupyter.widget-view+json": {
       "model_id": "",
       "version_major": 2,
       "version_minor": 0
      },
      "text/plain": [
       "FloatProgress(value=0.0, bar_style='info', description='Progress:', layout=Layout(height='25px', width='50%'),…"
      ]
     },
     "metadata": {}
    }
   ],
   "metadata": {}
  },
  {
   "cell_type": "code",
   "execution_count": 205,
   "source": [
    "def get_hashtags(df_features, hashtags_df,images_features,hashtag_features,neural_net = neural_net, url = None,client = client ,bucket=None,key = None,number = 20):\n",
    "    # case url, it is a future feature as well as a tool for fast evaluate and debug\n",
    "    if url:\n",
    "        deep_features = get_vector_url(url,neural_net)\n",
    "    else:\n",
    "        # case load data from s3\n",
    "        image = fetch_image_from_s3_to_array(client,bucket,key)\n",
    "        deep_features = get_vector_img(image,neural_net)\n",
    "    \n",
    "    # get the id of images that share the common deep features with target image\n",
    "    df_rec = df_features.copy()\n",
    "    chosen = find_neighbor_vectors(deep_features,df_rec)\n",
    "    \n",
    "    # helper function to filter out image that having no hashtags in original dataset\n",
    "    def get_list(chosen_vectors,images_features):\n",
    "        list_return = []\n",
    "        for i in chosen_vectors.index.tolist():\n",
    "            try:\n",
    "                list_return.append(images_features.loc[i,\"features\"])\n",
    "            except:\n",
    "                pass\n",
    "        return list_return\n",
    "    \n",
    "    # calculate the average als image factors of target image\n",
    "    list_features_combine = get_list(chosen,images_features )\n",
    "    average_features = np.asarray(list_features_combine).mean(axis = 0)\n",
    "    \n",
    "    # perform dot product and sorted hashtags based on the dot product\n",
    "    hashtags = hashtag_features.copy()\n",
    "    hashtags[\"dot_product\"] = hashtags.features.apply(lambda x: np.asarray(x).dot(average_features))\n",
    "    final_recs = hashtags.sort_values(by='dot_product', ascending=False).head(number)\n",
    "    # Look up hashtags by their numeric IDs\n",
    "    output = []\n",
    "    for hashtag_id in final_recs.index.values:\n",
    "        output.append(hashtags_df.iloc[hashtag_id]['hashtag'])\n",
    "\n",
    "    return output"
   ],
   "outputs": [
    {
     "output_type": "display_data",
     "data": {
      "application/vnd.jupyter.widget-view+json": {
       "model_id": "e7ec3d757cc64633b7ec7c11db0be4dd",
       "version_major": 2,
       "version_minor": 0
      },
      "text/plain": [
       "VBox()"
      ]
     },
     "metadata": {}
    },
    {
     "output_type": "display_data",
     "data": {
      "application/vnd.jupyter.widget-view+json": {
       "model_id": "",
       "version_major": 2,
       "version_minor": 0
      },
      "text/plain": [
       "FloatProgress(value=0.0, bar_style='info', description='Progress:', layout=Layout(height='25px', width='50%'),…"
      ]
     },
     "metadata": {}
    }
   ],
   "metadata": {}
  },
  {
   "cell_type": "code",
   "execution_count": 206,
   "source": [
    "# Demo using url case\n",
    "url = \"https://hips.hearstapps.com/hmg-prod.s3.amazonaws.com/images/dog-puppy-on-garden-royalty-free-image-1586966191.jpg?crop=1.00xw:0.669xh;0,0.190xh&resize=1200:*\"\n",
    "url2 = \"https://storage.googleapis.com/cdn.nhanh.vn/store2/69685/bn/sb_1585213942_796.jpg\"\n",
    "url3 = \"https://sansangduhoc.vn/wp-content/uploads/2020/11/17.11-travel-1.jpg\"\n",
    "hashtags_target = get_hashtags(df_use,hashtags_df,img_features,hashtag_features,url =url )"
   ],
   "outputs": [
    {
     "output_type": "display_data",
     "data": {
      "application/vnd.jupyter.widget-view+json": {
       "model_id": "9f121a9d4b2e452f91fd147faf2b9ac4",
       "version_major": 2,
       "version_minor": 0
      },
      "text/plain": [
       "VBox()"
      ]
     },
     "metadata": {}
    },
    {
     "output_type": "display_data",
     "data": {
      "application/vnd.jupyter.widget-view+json": {
       "model_id": "",
       "version_major": 2,
       "version_minor": 0
      },
      "text/plain": [
       "FloatProgress(value=0.0, bar_style='info', description='Progress:', layout=Layout(height='25px', width='50%'),…"
      ]
     },
     "metadata": {}
    }
   ],
   "metadata": {}
  },
  {
   "cell_type": "code",
   "execution_count": 207,
   "source": [
    "hashtags_target"
   ],
   "outputs": [
    {
     "output_type": "display_data",
     "data": {
      "application/vnd.jupyter.widget-view+json": {
       "model_id": "98db171c54cb402d9a6b8c3fd9c7803a",
       "version_major": 2,
       "version_minor": 0
      },
      "text/plain": [
       "VBox()"
      ]
     },
     "metadata": {}
    },
    {
     "output_type": "display_data",
     "data": {
      "application/vnd.jupyter.widget-view+json": {
       "model_id": "",
       "version_major": 2,
       "version_minor": 0
      },
      "text/plain": [
       "FloatProgress(value=0.0, bar_style='info', description='Progress:', layout=Layout(height='25px', width='50%'),…"
      ]
     },
     "metadata": {}
    },
    {
     "output_type": "stream",
     "name": "stdout",
     "text": [
      "['#animals', '#animal', '#cat', '#pets', '#cats', '#cute', '#pet', '#love', '#dog', '#instagram', '#dogs', '#nature', '#petsofinstagram', '#bhfyp', '#of', '#petstagram', '#animallovers', '#catsofinstagram', '#puppy', '#dogsofinstagram']"
     ]
    }
   ],
   "metadata": {}
  },
  {
   "cell_type": "markdown",
   "source": [
    "# 7.0 demo of loading data for production "
   ],
   "metadata": {}
  },
  {
   "cell_type": "code",
   "execution_count": 141,
   "source": [
    "# load and preprocess saved image deep featured dataset\n",
    "df_features = read_csv_file(bucketname,\"df_features.csv\")\n",
    "df_features.columns "
   ],
   "outputs": [
    {
     "output_type": "display_data",
     "data": {
      "application/vnd.jupyter.widget-view+json": {
       "model_id": "dde62b81dd9c4273a837178387ceed6e",
       "version_major": 2,
       "version_minor": 0
      },
      "text/plain": [
       "VBox()"
      ]
     },
     "metadata": {}
    },
    {
     "output_type": "display_data",
     "data": {
      "application/vnd.jupyter.widget-view+json": {
       "model_id": "",
       "version_major": 2,
       "version_minor": 0
      },
      "text/plain": [
       "FloatProgress(value=0.0, bar_style='info', description='Progress:', layout=Layout(height='25px', width='50%'),…"
      ]
     },
     "metadata": {}
    },
    {
     "output_type": "stream",
     "name": "stdout",
     "text": [
      "Index(['Unnamed: 0', 'deep_feature', 'hashtags'], dtype='object')"
     ]
    }
   ],
   "metadata": {}
  },
  {
   "cell_type": "code",
   "execution_count": 142,
   "source": [
    "df_features[\"deep_feature\"] = df_features[\"deep_feature\"].apply(lambda x: np.fromstring(x[1:-2],sep=\", \"))"
   ],
   "outputs": [
    {
     "output_type": "display_data",
     "data": {
      "application/vnd.jupyter.widget-view+json": {
       "model_id": "44295eeb46be4ae28d294d29d87e72b2",
       "version_major": 2,
       "version_minor": 0
      },
      "text/plain": [
       "VBox()"
      ]
     },
     "metadata": {}
    },
    {
     "output_type": "display_data",
     "data": {
      "application/vnd.jupyter.widget-view+json": {
       "model_id": "",
       "version_major": 2,
       "version_minor": 0
      },
      "text/plain": [
       "FloatProgress(value=0.0, bar_style='info', description='Progress:', layout=Layout(height='25px', width='50%'),…"
      ]
     },
     "metadata": {}
    }
   ],
   "metadata": {}
  },
  {
   "cell_type": "code",
   "execution_count": 143,
   "source": [
    "del df_features[\"Unnamed: 0\"]\n",
    "df_features"
   ],
   "outputs": [
    {
     "output_type": "display_data",
     "data": {
      "application/vnd.jupyter.widget-view+json": {
       "model_id": "708e4ea0230d46ba80e62ec5a01c4bac",
       "version_major": 2,
       "version_minor": 0
      },
      "text/plain": [
       "VBox()"
      ]
     },
     "metadata": {}
    },
    {
     "output_type": "display_data",
     "data": {
      "application/vnd.jupyter.widget-view+json": {
       "model_id": "",
       "version_major": 2,
       "version_minor": 0
      },
      "text/plain": [
       "FloatProgress(value=0.0, bar_style='info', description='Progress:', layout=Layout(height='25px', width='50%'),…"
      ]
     },
     "metadata": {}
    },
    {
     "output_type": "stream",
     "name": "stdout",
     "text": [
      "                                           deep_feature                                           hashtags\n",
      "0     [0.0, 0.0, 0.865784764289856, 0.00069944956339...  ['#btsatunga', '#unga', '#btsaspresidentenvoy'...\n",
      "1     [0.879599928855896, 0.23585304617881775, 1.039...  ['#unitednations', '#unga', '#bts', '#bangtanb...\n",
      "2     [0.0, 0.0, 0.7003890872001648, 0.1560206115245...  ['#apple', '#globalarmsembargo', '#unga', '#go...\n",
      "3     [0.0075896806083619595, 0.0, 0.532040476799011...  ['#Letkoakpin', '#Natmauk', '#globalarmsembarg...\n",
      "4     [0.0, 0.11799856275320053, 0.0, 0.088474199175...  ['#peing', '#nft', '#emmys', '#ps', '#amici', ...\n",
      "...                                                 ...                                                ...\n",
      "3407  [1.8191308975219727, 0.6857613921165466, 0.283...  ['#buildings', '#building', '#home', '#ezstudi...\n",
      "3408  [1.3507258892059326, 1.7377569675445557, 0.992...  ['#buildings', '#be', '#architecturephotograph...\n",
      "3409  [0.0, 0.0, 0.5229275226593018, 0.0, 2.49783182...  ['#summervibes', '#brooklyn', '#naturephotogra...\n",
      "3410  [0.0, 0.0, 0.14853429794311523, 0.0, 0.1899977...  ['#architecture', '#tree', '#home', '#aestheti...\n",
      "3411  [0.9192885756492615, 0.03624408692121506, 2.05...  ['#architecture', '#bmarchitecture', '#archite...\n",
      "\n",
      "[3412 rows x 2 columns]"
     ]
    }
   ],
   "metadata": {}
  },
  {
   "cell_type": "code",
   "execution_count": 144,
   "source": [
    "# load the saved hashtags\n",
    "hashtags_saved = read_csv_file(bucketname,\"hashtags.csv\")"
   ],
   "outputs": [
    {
     "output_type": "display_data",
     "data": {
      "application/vnd.jupyter.widget-view+json": {
       "model_id": "23886c767edb471c817c1837f787b2a2",
       "version_major": 2,
       "version_minor": 0
      },
      "text/plain": [
       "VBox()"
      ]
     },
     "metadata": {}
    },
    {
     "output_type": "display_data",
     "data": {
      "application/vnd.jupyter.widget-view+json": {
       "model_id": "",
       "version_major": 2,
       "version_minor": 0
      },
      "text/plain": [
       "FloatProgress(value=0.0, bar_style='info', description='Progress:', layout=Layout(height='25px', width='50%'),…"
      ]
     },
     "metadata": {}
    }
   ],
   "metadata": {}
  },
  {
   "cell_type": "code",
   "execution_count": 145,
   "source": [
    "# load the image factors of als models\n",
    "image_features_saved = read_csv_file(bucketname,\"img_features.csv\")\n",
    "image_features_saved[\"features\"] = image_features_saved[\"features\"].apply(lambda x: ast.literal_eval(x))"
   ],
   "outputs": [
    {
     "output_type": "display_data",
     "data": {
      "application/vnd.jupyter.widget-view+json": {
       "model_id": "caba7b30531e4ae7a338e4c1b314a6ac",
       "version_major": 2,
       "version_minor": 0
      },
      "text/plain": [
       "VBox()"
      ]
     },
     "metadata": {}
    },
    {
     "output_type": "display_data",
     "data": {
      "application/vnd.jupyter.widget-view+json": {
       "model_id": "",
       "version_major": 2,
       "version_minor": 0
      },
      "text/plain": [
       "FloatProgress(value=0.0, bar_style='info', description='Progress:', layout=Layout(height='25px', width='50%'),…"
      ]
     },
     "metadata": {}
    }
   ],
   "metadata": {}
  },
  {
   "cell_type": "code",
   "execution_count": 146,
   "source": [
    "# load the hashtags factors of als models\n",
    "hashtag_features_saved = read_csv_file(bucketname,\"hashtag_features.csv\")\n",
    "hashtag_features_saved[\"features\"] = hashtag_features_saved[\"features\"].apply(lambda x: ast.literal_eval(x))"
   ],
   "outputs": [
    {
     "output_type": "display_data",
     "data": {
      "application/vnd.jupyter.widget-view+json": {
       "model_id": "0c85222d8bc4463e81b1a9fdbc035567",
       "version_major": 2,
       "version_minor": 0
      },
      "text/plain": [
       "VBox()"
      ]
     },
     "metadata": {}
    },
    {
     "output_type": "display_data",
     "data": {
      "application/vnd.jupyter.widget-view+json": {
       "model_id": "",
       "version_major": 2,
       "version_minor": 0
      },
      "text/plain": [
       "FloatProgress(value=0.0, bar_style='info', description='Progress:', layout=Layout(height='25px', width='50%'),…"
      ]
     },
     "metadata": {}
    }
   ],
   "metadata": {}
  },
  {
   "cell_type": "code",
   "execution_count": 148,
   "source": [
    "target_hashtags2 = get_hashtags(df_features,hashtags_saved,img_features,hashtag_features,url =url )\n",
    "target_hashtags2"
   ],
   "outputs": [
    {
     "output_type": "display_data",
     "data": {
      "application/vnd.jupyter.widget-view+json": {
       "model_id": "95856d2fdf8e4678b25dcaaaca091ce1",
       "version_major": 2,
       "version_minor": 0
      },
      "text/plain": [
       "VBox()"
      ]
     },
     "metadata": {}
    },
    {
     "output_type": "display_data",
     "data": {
      "application/vnd.jupyter.widget-view+json": {
       "model_id": "",
       "version_major": 2,
       "version_minor": 0
      },
      "text/plain": [
       "FloatProgress(value=0.0, bar_style='info', description='Progress:', layout=Layout(height='25px', width='50%'),…"
      ]
     },
     "metadata": {}
    },
    {
     "output_type": "stream",
     "name": "stdout",
     "text": [
      "['#animals', '#animal', '#cat', '#pets', '#cats', '#cute', '#pet', '#love', '#dog', '#instagram', '#dogs', '#nature', '#petsofinstagram', '#bhfyp', '#of', '#petstagram', '#animallovers', '#catsofinstagram', '#puppy', '#dogsofinstagram']"
     ]
    }
   ],
   "metadata": {}
  },
  {
   "cell_type": "code",
   "execution_count": null,
   "source": [],
   "outputs": [],
   "metadata": {}
  }
 ],
 "metadata": {
  "kernelspec": {
   "display_name": "PySpark",
   "language": "",
   "name": "pysparkkernel"
  },
  "language_info": {
   "codemirror_mode": {
    "name": "python",
    "version": 2
   },
   "mimetype": "text/x-python",
   "name": "pyspark",
   "pygments_lexer": "python2"
  }
 },
 "nbformat": 4,
 "nbformat_minor": 5
}