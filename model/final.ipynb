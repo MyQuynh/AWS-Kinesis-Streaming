{
 "cells": [
  {
   "cell_type": "code",
   "execution_count": null,
   "source": [
    "sc.list_packages()"
   ],
   "outputs": [],
   "metadata": {}
  },
  {
   "cell_type": "code",
   "execution_count": null,
   "source": [
    "%info"
   ],
   "outputs": [],
   "metadata": {}
  },
  {
   "cell_type": "code",
   "execution_count": null,
   "source": [
    "# {\"conf\":{\"spark.pyspark.python\": \"python3.7\",\r\n",
    "#          \"spark.pyspark.virtualenv.enabled\": \"true\",\r\n",
    "#          \"spark.pyspark.virtualenv.type\": \"native\",\r\n",
    "#          \"spark.pyspark.virtualenv.bin.path\":\"/usr/bin/virtualenv\"}\r\n",
    "# }"
   ],
   "outputs": [],
   "metadata": {}
  },
  {
   "cell_type": "code",
   "execution_count": 12,
   "source": [
    "# sc.install_pypi_package(\"scikit-learn\")\r\n",
    "# sc.install_pypi_package(\"numpy==1.18.0\")\r\n",
    "# sc.install_pypi_package(\"pandas==0.25.1\")\r\n",
    "# sc.install_pypi_package(\"requests\")\r\n",
    "# sc.install_pypi_package(\"tqdm\")\r\n",
    "# sc.install_pypi_package(\"scipy\")\r\n",
    "# # sc.install_pypi_package(\"boto3\") // No need to run boto3\r\n",
    "# sc.install_pypi_package(\"regex\")\r\n",
    "# sc.install_pypi_package(\"Pillow\")\r\n",
    "# sc.install_pypi_package(\"h5py==3.0.0\")\r\n",
    "# sc.install_pypi_package(\"s3fs\")"
   ],
   "outputs": [
    {
     "output_type": "display_data",
     "data": {
      "application/vnd.jupyter.widget-view+json": {
       "model_id": "69ed203913cd4f7089383741c4d43d8f",
       "version_major": 2,
       "version_minor": 0
      },
      "text/plain": [
       "VBox()"
      ]
     },
     "metadata": {}
    },
    {
     "output_type": "display_data",
     "data": {
      "application/vnd.jupyter.widget-view+json": {
       "model_id": "",
       "version_major": 2,
       "version_minor": 0
      },
      "text/plain": [
       "FloatProgress(value=0.0, bar_style='info', description='Progress:', layout=Layout(height='25px', width='50%'),…"
      ]
     },
     "metadata": {}
    }
   ],
   "metadata": {}
  },
  {
   "cell_type": "markdown",
   "source": [
    "# Get the origin dataframe "
   ],
   "metadata": {}
  },
  {
   "cell_type": "code",
   "execution_count": 13,
   "source": [
    "import boto3\r\n",
    "from pyspark.sql.types import *"
   ],
   "outputs": [
    {
     "output_type": "display_data",
     "data": {
      "application/vnd.jupyter.widget-view+json": {
       "model_id": "42b70c91e70e4ccdb2aa3689fad8c8e0",
       "version_major": 2,
       "version_minor": 0
      },
      "text/plain": [
       "VBox()"
      ]
     },
     "metadata": {}
    },
    {
     "output_type": "display_data",
     "data": {
      "application/vnd.jupyter.widget-view+json": {
       "model_id": "",
       "version_major": 2,
       "version_minor": 0
      },
      "text/plain": [
       "FloatProgress(value=0.0, bar_style='info', description='Progress:', layout=Layout(height='25px', width='50%'),…"
      ]
     },
     "metadata": {}
    }
   ],
   "metadata": {}
  },
  {
   "cell_type": "code",
   "execution_count": 14,
   "source": [
    "client = boto3.client('s3')\n",
    "\n",
    "def remove(link):\n",
    "    new_link = link.split(\"/\")\n",
    "    new_link = new_link[:-1]\n",
    "    string = '/'.join(new_link)\n",
    "    return string\n",
    "\n",
    "def removeDuplicate(test_list):\n",
    "    res = []\n",
    "    for i in test_list:\n",
    "        if i not in res:\n",
    "            res.append(i)\n",
    "    return res\n",
    "    \n",
    "\n",
    "def createDataFrame():\n",
    "    \n",
    "    sub_list_1 = []\n",
    "\n",
    "    bucket = client.list_objects_v2(Bucket=\"kinesis-s3records-16jckkpyv314r\", Prefix ='firehose')\n",
    "    for content in bucket[\"Contents\"]:\n",
    "        key = content[\"Key\"]\n",
    "        sub_list_1.append(remove(key))\n",
    "        \n",
    "    sub_list_1 = removeDuplicate(sub_list_1)\n",
    "        \n",
    "    \n",
    "    sub_list_2 = []\n",
    "    \n",
    "    \n",
    "    for i in range(len(sub_list_1)):\n",
    "        sub_list_2.append(\"s3://kinesis-s3records-16jckkpyv314r/\" + sub_list_1[i]+\"/\")\n",
    "    \n",
    "\n",
    "    # Creating the dataframe and append list of object to it\n",
    "    schema = StructType([\n",
    "        StructField('caption', StringType(), True),\n",
    "        StructField('hashtag', StringType(), True),\n",
    "        StructField('image_url', StringType(), True)\n",
    "    ])\n",
    "    df = spark.createDataFrame(spark.sparkContext.emptyRDD(), schema)\n",
    "    for s3 in sub_list_2:\n",
    "        df_added = spark.read.json(s3)\n",
    "        df = df.union(df_added)\n",
    "\n",
    "    return df"
   ],
   "outputs": [
    {
     "output_type": "display_data",
     "data": {
      "application/vnd.jupyter.widget-view+json": {
       "model_id": "92416c62df7b4a8d87537a0cfad135ca",
       "version_major": 2,
       "version_minor": 0
      },
      "text/plain": [
       "VBox()"
      ]
     },
     "metadata": {}
    },
    {
     "output_type": "display_data",
     "data": {
      "application/vnd.jupyter.widget-view+json": {
       "model_id": "",
       "version_major": 2,
       "version_minor": 0
      },
      "text/plain": [
       "FloatProgress(value=0.0, bar_style='info', description='Progress:', layout=Layout(height='25px', width='50%'),…"
      ]
     },
     "metadata": {}
    }
   ],
   "metadata": {}
  },
  {
   "cell_type": "code",
   "execution_count": 15,
   "source": [
    "df = createDataFrame()\n",
    "df.show()"
   ],
   "outputs": [
    {
     "output_type": "display_data",
     "data": {
      "application/vnd.jupyter.widget-view+json": {
       "model_id": "5d7813e78c174fccad11eb44ac54a626",
       "version_major": 2,
       "version_minor": 0
      },
      "text/plain": [
       "VBox()"
      ]
     },
     "metadata": {}
    },
    {
     "output_type": "display_data",
     "data": {
      "application/vnd.jupyter.widget-view+json": {
       "model_id": "",
       "version_major": 2,
       "version_minor": 0
      },
      "text/plain": [
       "FloatProgress(value=0.0, bar_style='info', description='Progress:', layout=Layout(height='25px', width='50%'),…"
      ]
     },
     "metadata": {}
    },
    {
     "output_type": "stream",
     "name": "stdout",
     "text": [
      "+--------------------+--------------------+--------------------+\n",
      "|             caption|             hashtag|           image_url|\n",
      "+--------------------+--------------------+--------------------+\n",
      "|Read caption 📌\n",
      "\n",
      "...|[\"btsatunga\", \"un...|https://scontent-...|\n",
      "|The whole event o...|[\"unitednations\",...|https://scontent-...|\n",
      "|New AirPods Pro a...|[\"apple\", \"global...|https://scontent-...|\n",
      "|Ko Phyu Gyi, a vi...|[\"Letkoakpin vill...|https://scontent-...|\n",
      "|Get your hands on...|[\"peing\", \"nft\", ...|https://scontent-...|\n",
      "|....................|[\"btsquotes\", \"un...|https://scontent-...|\n",
      "|https://kaderjila...|[\"HappySunshineDa...|https://scontent-...|\n",
      "|Where's the lie t...|[\"bts\", \"btsedits...|https://scontent-...|\n",
      "|   #godmorningmonday|[\"godmorningmonday\"]|https://scontent-...|\n",
      "|Have you register...|[\"unga\", \"unwomen...|https://scontent-...|\n",
      "|New AirPods Pro a...|[\"apple\", \"global...|https://scontent-...|\n",
      "|New AirPods Pro a...|[\"apple\", \"global...|https://scontent-...|\n",
      "|New AirPods Pro a...|[\"apple\", \"global...|https://scontent-...|\n",
      "|New Naughty Dog T...|[\"dogsofinstagram...|https://scontent-...|\n",
      "|That's End game W...|[\"globalarmsembar...|https://scontent-...|\n",
      "|That's End game W...|[\"globalarmsembar...|https://scontent-...|\n",
      "|Look at them how ...|[\"bts\", \"btsrm\", ...|https://scontent-...|\n",
      "|Frank Ocean's app...|[\"frankocean\", \"b...|https://scontent-...|\n",
      "|@melissarfleming ...|[\"GlobalGoals and...|https://scontent-...|\n",
      "|Facebook will red...|[\"instanews\", \"fa...|https://scontent-...|\n",
      "+--------------------+--------------------+--------------------+\n",
      "only showing top 20 rows"
     ]
    }
   ],
   "metadata": {}
  },
  {
   "cell_type": "code",
   "execution_count": 16,
   "source": [
    "df.count()"
   ],
   "outputs": [
    {
     "output_type": "display_data",
     "data": {
      "application/vnd.jupyter.widget-view+json": {
       "model_id": "60696233c49c4f7082fe0e009bc8ba81",
       "version_major": 2,
       "version_minor": 0
      },
      "text/plain": [
       "VBox()"
      ]
     },
     "metadata": {}
    },
    {
     "output_type": "display_data",
     "data": {
      "application/vnd.jupyter.widget-view+json": {
       "model_id": "",
       "version_major": 2,
       "version_minor": 0
      },
      "text/plain": [
       "FloatProgress(value=0.0, bar_style='info', description='Progress:', layout=Layout(height='25px', width='50%'),…"
      ]
     },
     "metadata": {}
    },
    {
     "output_type": "stream",
     "name": "stdout",
     "text": [
      "421"
     ]
    }
   ],
   "metadata": {}
  },
  {
   "cell_type": "markdown",
   "source": [
    "# Import needed library"
   ],
   "metadata": {}
  },
  {
   "cell_type": "code",
   "execution_count": 17,
   "source": [
    "import pandas as pd\n",
    "import requests\n",
    "# import regex\n",
    "from io import StringIO  # python3 (or BytesIO for python2)"
   ],
   "outputs": [
    {
     "output_type": "display_data",
     "data": {
      "application/vnd.jupyter.widget-view+json": {
       "model_id": "d740c01cea4f4dd7a823622879cd7b3a",
       "version_major": 2,
       "version_minor": 0
      },
      "text/plain": [
       "VBox()"
      ]
     },
     "metadata": {}
    },
    {
     "output_type": "display_data",
     "data": {
      "application/vnd.jupyter.widget-view+json": {
       "model_id": "",
       "version_major": 2,
       "version_minor": 0
      },
      "text/plain": [
       "FloatProgress(value=0.0, bar_style='info', description='Progress:', layout=Layout(height='25px', width='50%'),…"
      ]
     },
     "metadata": {}
    }
   ],
   "metadata": {}
  },
  {
   "cell_type": "code",
   "execution_count": 20,
   "source": [
    "# import pandas as pd\n",
    "# import matplotlib.pyplot as plt\n",
    "# %matplotlib inline\n",
    "# import matplotlib.image as mpimg\n",
    "# from PIL import Image\n",
    "import io\n",
    "import tensorflow as tf\n",
    "from tensorflow.keras.applications import MobileNetV2\n",
    "from pyspark.sql import SparkSession, SQLContext\n",
    "from pyspark.ml.evaluation import RegressionEvaluator\n",
    "from pyspark.ml.recommendation import ALS, ALSModel\n",
    "from pyspark.ml.linalg import *\n",
    "from  pyspark.mllib.linalg.distributed import *\n",
    "from pyspark.sql.types import *\n",
    "from pyspark.sql.functions import *\n",
    "from pyspark.sql.functions import monotonically_increasing_id\n",
    "from functools import reduce\n",
    "from pyspark.sql.window import *\n",
    "import numpy as np\n",
    "import os\n",
    "# from tqdm import tqdm\n",
    "from scipy.spatial.distance import cosine\n",
    "from pyspark.sql.types import *\n",
    "import requests\n",
    "import boto3\n",
    "from PIL import Image\n",
    "\n",
    "tf.enable_eager_execution()\n",
    "\n",
    "np.random.seed(0)\n",
    "# import s3fs\n",
    "\n"
   ],
   "outputs": [
    {
     "output_type": "display_data",
     "data": {
      "application/vnd.jupyter.widget-view+json": {
       "model_id": "05cec9040e5f4473b51c71399c61db36",
       "version_major": 2,
       "version_minor": 0
      },
      "text/plain": [
       "VBox()"
      ]
     },
     "metadata": {}
    },
    {
     "output_type": "display_data",
     "data": {
      "application/vnd.jupyter.widget-view+json": {
       "model_id": "",
       "version_major": 2,
       "version_minor": 0
      },
      "text/plain": [
       "FloatProgress(value=0.0, bar_style='info', description='Progress:', layout=Layout(height='25px', width='50%'),…"
      ]
     },
     "metadata": {}
    }
   ],
   "metadata": {}
  },
  {
   "cell_type": "markdown",
   "source": [
    "# Helper function "
   ],
   "metadata": {}
  },
  {
   "cell_type": "code",
   "execution_count": 21,
   "source": [
    "# Construct neural net to extract image features \n",
    "def construct_neural_network():\n",
    "    img_shape = (160, 160, 3)\n",
    "\n",
    "    # Create the base model from the pre-trained model MobileNet V2\n",
    "    base_model = MobileNetV2(input_shape=img_shape, include_top=False, weights='imagenet')\n",
    "\n",
    "    global_average_layer = tf.keras.layers.GlobalAveragePooling2D()\n",
    "\n",
    "    neural_network = tf.keras.Sequential([\n",
    "      base_model,\n",
    "      global_average_layer,\n",
    "    ])\n",
    "    \n",
    "    return neural_network"
   ],
   "outputs": [
    {
     "output_type": "display_data",
     "data": {
      "application/vnd.jupyter.widget-view+json": {
       "model_id": "1a89c773bf0e460b87e48d92cf06fa79",
       "version_major": 2,
       "version_minor": 0
      },
      "text/plain": [
       "VBox()"
      ]
     },
     "metadata": {}
    },
    {
     "output_type": "display_data",
     "data": {
      "application/vnd.jupyter.widget-view+json": {
       "model_id": "",
       "version_major": 2,
       "version_minor": 0
      },
      "text/plain": [
       "FloatProgress(value=0.0, bar_style='info', description='Progress:', layout=Layout(height='25px', width='50%'),…"
      ]
     },
     "metadata": {}
    }
   ],
   "metadata": {}
  },
  {
   "cell_type": "code",
   "execution_count": 22,
   "source": [
    "# get image as tensor from url \n",
    "def get_image(url):\n",
    "    r = requests.get(url)\n",
    "    img = tf.io.decode_image(r.content)\n",
    "    return img "
   ],
   "outputs": [
    {
     "output_type": "display_data",
     "data": {
      "application/vnd.jupyter.widget-view+json": {
       "model_id": "7e2e44b9db894c608a910b7101055f6c",
       "version_major": 2,
       "version_minor": 0
      },
      "text/plain": [
       "VBox()"
      ]
     },
     "metadata": {}
    },
    {
     "output_type": "display_data",
     "data": {
      "application/vnd.jupyter.widget-view+json": {
       "model_id": "",
       "version_major": 2,
       "version_minor": 0
      },
      "text/plain": [
       "FloatProgress(value=0.0, bar_style='info', description='Progress:', layout=Layout(height='25px', width='50%'),…"
      ]
     },
     "metadata": {}
    }
   ],
   "metadata": {}
  },
  {
   "cell_type": "code",
   "execution_count": 23,
   "source": [
    "# extract features get the deep features from neural network to use later \n",
    "def extract_features(image, neural_network):\n",
    "    \"\"\"Return a vector of 1280 deep features for image.\"\"\"\n",
    "    images = np.expand_dims(image, axis=0)\n",
    "    deep_features = neural_network.predict(images)[0]\n",
    "    return deep_features"
   ],
   "outputs": [
    {
     "output_type": "display_data",
     "data": {
      "application/vnd.jupyter.widget-view+json": {
       "model_id": "1ce8d83935da42d0874a34bdcd3a7259",
       "version_major": 2,
       "version_minor": 0
      },
      "text/plain": [
       "VBox()"
      ]
     },
     "metadata": {}
    },
    {
     "output_type": "display_data",
     "data": {
      "application/vnd.jupyter.widget-view+json": {
       "model_id": "",
       "version_major": 2,
       "version_minor": 0
      },
      "text/plain": [
       "FloatProgress(value=0.0, bar_style='info', description='Progress:', layout=Layout(height='25px', width='50%'),…"
      ]
     },
     "metadata": {}
    }
   ],
   "metadata": {}
  },
  {
   "cell_type": "code",
   "execution_count": 24,
   "source": [
    "# transform image to numpy arrays\n",
    "def prepare_image(img,height = 160,width = 160):\n",
    "    img = tf.cast(img, tf.float32)\n",
    "    img = (img/127.5) - 1\n",
    "    img = tf.image.resize(img, (height, width))\n",
    "    # Reshape grayscale images to match dimensions of color images\n",
    "    if img.shape != (160, 160, 3):\n",
    "        img = tf.concat([img, img, img], axis=2)\n",
    "    return img.numpy()"
   ],
   "outputs": [
    {
     "output_type": "display_data",
     "data": {
      "application/vnd.jupyter.widget-view+json": {
       "model_id": "9392d95daf384729bc378a6559c2227c",
       "version_major": 2,
       "version_minor": 0
      },
      "text/plain": [
       "VBox()"
      ]
     },
     "metadata": {}
    },
    {
     "output_type": "display_data",
     "data": {
      "application/vnd.jupyter.widget-view+json": {
       "model_id": "",
       "version_major": 2,
       "version_minor": 0
      },
      "text/plain": [
       "FloatProgress(value=0.0, bar_style='info', description='Progress:', layout=Layout(height='25px', width='50%'),…"
      ]
     },
     "metadata": {}
    }
   ],
   "metadata": {}
  },
  {
   "cell_type": "code",
   "execution_count": 25,
   "source": [
    "# use for testing on this trial\n",
    "def get_vector_url(url,neural_network):\n",
    "    image = prepare_image(get_image(url))\n",
    "    return extract_features(image,neural_network)\n",
    "\n",
    "# use for EMR notebook \n",
    "def get_vector_img(img,neural_network):\n",
    "    img = prepare_image(img)\n",
    "    return extract_features(img,neural_network)"
   ],
   "outputs": [
    {
     "output_type": "display_data",
     "data": {
      "application/vnd.jupyter.widget-view+json": {
       "model_id": "c680f87bc4554940b6c351cf89a5a8d8",
       "version_major": 2,
       "version_minor": 0
      },
      "text/plain": [
       "VBox()"
      ]
     },
     "metadata": {}
    },
    {
     "output_type": "display_data",
     "data": {
      "application/vnd.jupyter.widget-view+json": {
       "model_id": "",
       "version_major": 2,
       "version_minor": 0
      },
      "text/plain": [
       "FloatProgress(value=0.0, bar_style='info', description='Progress:', layout=Layout(height='25px', width='50%'),…"
      ]
     },
     "metadata": {}
    }
   ],
   "metadata": {}
  },
  {
   "cell_type": "code",
   "execution_count": 26,
   "source": [
    "# helper function for image hashtag generators\n",
    "def find_neighbor_vectors(features,recommender_df, k=5):\n",
    "    \"\"\"Find image features (user vectors) for similar images.\"\"\"\n",
    "    rdf = recommender_df.copy()\n",
    "    rdf['dist'] = rdf['deep_feature'].apply(lambda x: cosine(x, features))\n",
    "    rdf = rdf.sort_values(by='dist')\n",
    "    return rdf.head(k)"
   ],
   "outputs": [
    {
     "output_type": "display_data",
     "data": {
      "application/vnd.jupyter.widget-view+json": {
       "model_id": "ed876055f41640a0a852456f1286a197",
       "version_major": 2,
       "version_minor": 0
      },
      "text/plain": [
       "VBox()"
      ]
     },
     "metadata": {}
    },
    {
     "output_type": "display_data",
     "data": {
      "application/vnd.jupyter.widget-view+json": {
       "model_id": "",
       "version_major": 2,
       "version_minor": 0
      },
      "text/plain": [
       "FloatProgress(value=0.0, bar_style='info', description='Progress:', layout=Layout(height='25px', width='50%'),…"
      ]
     },
     "metadata": {}
    }
   ],
   "metadata": {}
  },
  {
   "cell_type": "code",
   "execution_count": 27,
   "source": [
    "# function to read csv file from bucket\n",
    "def read_csv_file(bucket,key):\n",
    "    obj = client.get_object(Bucket=bucket, Key=f'dataframe/{key}')\n",
    "    df = pd.read_csv(io.BytesIO(obj['Body'].read()))\n",
    "    return df"
   ],
   "outputs": [
    {
     "output_type": "display_data",
     "data": {
      "application/vnd.jupyter.widget-view+json": {
       "model_id": "cb44ed1d852c474faeb12c590f6da690",
       "version_major": 2,
       "version_minor": 0
      },
      "text/plain": [
       "VBox()"
      ]
     },
     "metadata": {}
    },
    {
     "output_type": "display_data",
     "data": {
      "application/vnd.jupyter.widget-view+json": {
       "model_id": "",
       "version_major": 2,
       "version_minor": 0
      },
      "text/plain": [
       "FloatProgress(value=0.0, bar_style='info', description='Progress:', layout=Layout(height='25px', width='50%'),…"
      ]
     },
     "metadata": {}
    }
   ],
   "metadata": {}
  },
  {
   "cell_type": "code",
   "execution_count": 28,
   "source": [
    "# function to write csv file to bucket\n",
    "def save_df(df,file_name):\n",
    "    bucket = \"kinesis-s3records-16jckkpyv314r\"\n",
    "    csv_buffer = StringIO()\n",
    "    df.to_csv(csv_buffer)\n",
    "\n",
    "    s3_resource = boto3.resource('s3')\n",
    "    s3_resource.Object(bucket, f'dataframe/{file_name}').put(Body=csv_buffer.getvalue())"
   ],
   "outputs": [
    {
     "output_type": "display_data",
     "data": {
      "application/vnd.jupyter.widget-view+json": {
       "model_id": "a2d948a2ed1c41b490313b053ab2806e",
       "version_major": 2,
       "version_minor": 0
      },
      "text/plain": [
       "VBox()"
      ]
     },
     "metadata": {}
    },
    {
     "output_type": "display_data",
     "data": {
      "application/vnd.jupyter.widget-view+json": {
       "model_id": "",
       "version_major": 2,
       "version_minor": 0
      },
      "text/plain": [
       "FloatProgress(value=0.0, bar_style='info', description='Progress:', layout=Layout(height='25px', width='50%'),…"
      ]
     },
     "metadata": {}
    }
   ],
   "metadata": {}
  },
  {
   "cell_type": "markdown",
   "source": [
    "\n",
    "# Extract image and text feature from id for the recsys"
   ],
   "metadata": {}
  },
  {
   "cell_type": "code",
   "execution_count": 29,
   "source": [
    "df.printSchema()"
   ],
   "outputs": [
    {
     "output_type": "display_data",
     "data": {
      "application/vnd.jupyter.widget-view+json": {
       "model_id": "fffbdb56b0b44906aaba8a1892d5d40a",
       "version_major": 2,
       "version_minor": 0
      },
      "text/plain": [
       "VBox()"
      ]
     },
     "metadata": {}
    },
    {
     "output_type": "display_data",
     "data": {
      "application/vnd.jupyter.widget-view+json": {
       "model_id": "",
       "version_major": 2,
       "version_minor": 0
      },
      "text/plain": [
       "FloatProgress(value=0.0, bar_style='info', description='Progress:', layout=Layout(height='25px', width='50%'),…"
      ]
     },
     "metadata": {}
    },
    {
     "output_type": "stream",
     "name": "stdout",
     "text": [
      "root\n",
      " |-- caption: string (nullable = true)\n",
      " |-- hashtag: string (nullable = true)\n",
      " |-- image_url: string (nullable = true)"
     ]
    }
   ],
   "metadata": {}
  },
  {
   "cell_type": "code",
   "execution_count": 30,
   "source": [
    "# get the pandas version for creating img and hashtags datasets\n",
    "df_pd = df.toPandas()"
   ],
   "outputs": [
    {
     "output_type": "display_data",
     "data": {
      "application/vnd.jupyter.widget-view+json": {
       "model_id": "162efa7b7d564a41b2d3802527216a40",
       "version_major": 2,
       "version_minor": 0
      },
      "text/plain": [
       "VBox()"
      ]
     },
     "metadata": {}
    },
    {
     "output_type": "display_data",
     "data": {
      "application/vnd.jupyter.widget-view+json": {
       "model_id": "",
       "version_major": 2,
       "version_minor": 0
      },
      "text/plain": [
       "FloatProgress(value=0.0, bar_style='info', description='Progress:', layout=Layout(height='25px', width='50%'),…"
      ]
     },
     "metadata": {}
    }
   ],
   "metadata": {}
  },
  {
   "cell_type": "code",
   "execution_count": 31,
   "source": [
    "df_pd.caption[0]"
   ],
   "outputs": [
    {
     "output_type": "display_data",
     "data": {
      "application/vnd.jupyter.widget-view+json": {
       "model_id": "36b3a0ca5a294eb8b069412742df9b8e",
       "version_major": 2,
       "version_minor": 0
      },
      "text/plain": [
       "VBox()"
      ]
     },
     "metadata": {}
    },
    {
     "output_type": "display_data",
     "data": {
      "application/vnd.jupyter.widget-view+json": {
       "model_id": "",
       "version_major": 2,
       "version_minor": 0
      },
      "text/plain": [
       "FloatProgress(value=0.0, bar_style='info', description='Progress:', layout=Layout(height='25px', width='50%'),…"
      ]
     },
     "metadata": {}
    },
    {
     "output_type": "stream",
     "name": "stdout",
     "text": [
      "'Read caption 📌\\n\\nThese ANGELS are constantly creating history, \"and there\\'s no looking back\"💪\\n.\\nGoshhh its day 3 and I can\\'t stop screaming about how much proud I am for our boys😭💜\\n.\\nThey were singing at dancing at UN headquarters , mann its not joke anymore \\nI proudly say this \"YES THEY ARE THE KINGS OF THIS ERA\"\\n.\\n.\\nPLEASE DON\\'T REPOST WITHOUT CREDITS 💮\\n.\\n\\n#btsatunga #unga #btsaspresidentenvoy #dramaqueen #BTS #taehyung\\n#v #namjoon #kimnamjoon #kimnamjoonkimseokjinminyoongijunghoseokparkjiminkimtaehyungjeonjungkookbts #jimin #jungkook #yoongi #hobi #hoseak #jin #seokjin #kpop #army #btsarmy #btsarmyforever #butter #btsbutter #hybe #hybelabels #buttermv #bangtanboys #btsedit #btslove #purpleyou💜'"
     ]
    }
   ],
   "metadata": {}
  },
  {
   "cell_type": "code",
   "execution_count": 32,
   "source": [
    "import re\n",
    "def find_hashtag(caption):\n",
    "    to_replace = [\"\\n\", \".\", \",\"]\n",
    "    temp = caption\n",
    "    for i in to_replace:\n",
    "        temp = temp.replace(i,\"\")\n",
    "    hashtags = re.findall(\"#[A-Za-z]+\", temp)\n",
    "    \n",
    "    return hashtags    "
   ],
   "outputs": [
    {
     "output_type": "display_data",
     "data": {
      "application/vnd.jupyter.widget-view+json": {
       "model_id": "e28a520568fb410b91ee33d93057c777",
       "version_major": 2,
       "version_minor": 0
      },
      "text/plain": [
       "VBox()"
      ]
     },
     "metadata": {}
    },
    {
     "output_type": "display_data",
     "data": {
      "application/vnd.jupyter.widget-view+json": {
       "model_id": "",
       "version_major": 2,
       "version_minor": 0
      },
      "text/plain": [
       "FloatProgress(value=0.0, bar_style='info', description='Progress:', layout=Layout(height='25px', width='50%'),…"
      ]
     },
     "metadata": {}
    }
   ],
   "metadata": {}
  },
  {
   "cell_type": "code",
   "execution_count": 33,
   "source": [
    "df_pd[\"hashtags\"] = df_pd.caption.apply(lambda x: find_hashtag(x))"
   ],
   "outputs": [
    {
     "output_type": "display_data",
     "data": {
      "application/vnd.jupyter.widget-view+json": {
       "model_id": "3358662feeec49eea6eb8f9798d67995",
       "version_major": 2,
       "version_minor": 0
      },
      "text/plain": [
       "VBox()"
      ]
     },
     "metadata": {}
    },
    {
     "output_type": "display_data",
     "data": {
      "application/vnd.jupyter.widget-view+json": {
       "model_id": "",
       "version_major": 2,
       "version_minor": 0
      },
      "text/plain": [
       "FloatProgress(value=0.0, bar_style='info', description='Progress:', layout=Layout(height='25px', width='50%'),…"
      ]
     },
     "metadata": {}
    }
   ],
   "metadata": {}
  },
  {
   "cell_type": "code",
   "execution_count": 34,
   "source": [
    "df_pd[\"hashtags\"]"
   ],
   "outputs": [
    {
     "output_type": "display_data",
     "data": {
      "application/vnd.jupyter.widget-view+json": {
       "model_id": "eafedaeb8a3c47f19b70db059ef9d568",
       "version_major": 2,
       "version_minor": 0
      },
      "text/plain": [
       "VBox()"
      ]
     },
     "metadata": {}
    },
    {
     "output_type": "display_data",
     "data": {
      "application/vnd.jupyter.widget-view+json": {
       "model_id": "",
       "version_major": 2,
       "version_minor": 0
      },
      "text/plain": [
       "FloatProgress(value=0.0, bar_style='info', description='Progress:', layout=Layout(height='25px', width='50%'),…"
      ]
     },
     "metadata": {}
    },
    {
     "output_type": "stream",
     "name": "stdout",
     "text": [
      "0      [#btsatunga, #unga, #btsaspresidentenvoy, #dra...\n",
      "1      [#unitednations, #unga, #bts, #bangtanboys, #b...\n",
      "2      [#apple, #globalarmsembargo, #unga, #godmornin...\n",
      "3      [#Letkoakpin, #Natmauk, #globalarmsembargo, #s...\n",
      "4      [#peing, #nft, #emmys, #ps, #amici, #nowplayin...\n",
      "                             ...                        \n",
      "416    [#happyseungminday, #happybirthdayseungmin, #s...\n",
      "417    [#NFTcollectibles, #nftartgallery, #nftcollect...\n",
      "418              [#seungminstraykids, #seungminbirthday]\n",
      "419    [#Original, #song, #straykids, #straykidsseung...\n",
      "420                  [#jinyoung, #allrounderjinyoungday]\n",
      "Name: hashtags, Length: 421, dtype: object"
     ]
    }
   ],
   "metadata": {}
  },
  {
   "cell_type": "code",
   "execution_count": 35,
   "source": [
    "# Create a flattened list of all hashtags\n",
    "all_hashtags = [hashtag for hashtags in df_pd['hashtags'] for hashtag in hashtags]\n",
    "\n",
    "# Coerce to a set to remove duplicate entries\n",
    "# Sort to ensure reproducibility of results\n",
    "all_hashtags = sorted(list(set(all_hashtags)))\n",
    "\n",
    "# Build lookup for finding hashtag number based on hashtag name\n",
    "hashtag_lookup = {hashtag: i for i, hashtag in enumerate(all_hashtags)}"
   ],
   "outputs": [
    {
     "output_type": "display_data",
     "data": {
      "application/vnd.jupyter.widget-view+json": {
       "model_id": "88d625aa3cc74953a8ce1732612350c1",
       "version_major": 2,
       "version_minor": 0
      },
      "text/plain": [
       "VBox()"
      ]
     },
     "metadata": {}
    },
    {
     "output_type": "display_data",
     "data": {
      "application/vnd.jupyter.widget-view+json": {
       "model_id": "",
       "version_major": 2,
       "version_minor": 0
      },
      "text/plain": [
       "FloatProgress(value=0.0, bar_style='info', description='Progress:', layout=Layout(height='25px', width='50%'),…"
      ]
     },
     "metadata": {}
    }
   ],
   "metadata": {}
  },
  {
   "cell_type": "code",
   "execution_count": 36,
   "source": [
    "# create dataframe to save all hashtags\n",
    "hashtags_df = pd.DataFrame.from_dict(hashtag_lookup, orient='index')\n",
    "hashtags_df.head()"
   ],
   "outputs": [
    {
     "output_type": "display_data",
     "data": {
      "application/vnd.jupyter.widget-view+json": {
       "model_id": "fb24864bd30b42309474dfffb3b63535",
       "version_major": 2,
       "version_minor": 0
      },
      "text/plain": [
       "VBox()"
      ]
     },
     "metadata": {}
    },
    {
     "output_type": "display_data",
     "data": {
      "application/vnd.jupyter.widget-view+json": {
       "model_id": "",
       "version_major": 2,
       "version_minor": 0
      },
      "text/plain": [
       "FloatProgress(value=0.0, bar_style='info', description='Progress:', layout=Layout(height='25px', width='50%'),…"
      ]
     },
     "metadata": {}
    },
    {
     "output_type": "stream",
     "name": "stdout",
     "text": [
      "                    0\n",
      "#ARMYvaccinatedtoo  0\n",
      "#ATEEZBB            1\n",
      "#AdBor              2\n",
      "#Adbor              3\n",
      "#AltPunks           4"
     ]
    }
   ],
   "metadata": {}
  },
  {
   "cell_type": "code",
   "execution_count": 37,
   "source": [
    "hashtags_df = hashtags_df.reset_index()\n",
    "hashtags_df.columns = ['hashtag', 'id']\n",
    "hashtags_df.index = hashtags_df['id']\n",
    "hashtags_df.drop('id', axis=1, inplace=True)\n",
    "hashtags_df.head()"
   ],
   "outputs": [
    {
     "output_type": "display_data",
     "data": {
      "application/vnd.jupyter.widget-view+json": {
       "model_id": "2394fcad6b154aef9377cc48e794e310",
       "version_major": 2,
       "version_minor": 0
      },
      "text/plain": [
       "VBox()"
      ]
     },
     "metadata": {}
    },
    {
     "output_type": "display_data",
     "data": {
      "application/vnd.jupyter.widget-view+json": {
       "model_id": "",
       "version_major": 2,
       "version_minor": 0
      },
      "text/plain": [
       "FloatProgress(value=0.0, bar_style='info', description='Progress:', layout=Layout(height='25px', width='50%'),…"
      ]
     },
     "metadata": {}
    },
    {
     "output_type": "stream",
     "name": "stdout",
     "text": [
      "               hashtag\n",
      "id                    \n",
      "0   #ARMYvaccinatedtoo\n",
      "1             #ATEEZBB\n",
      "2               #AdBor\n",
      "3               #Adbor\n",
      "4            #AltPunks"
     ]
    }
   ],
   "metadata": {}
  },
  {
   "cell_type": "code",
   "execution_count": 38,
   "source": [
    "# Save hashtags dataframe \n",
    "save_df(hashtags_df,\"hashtags.csv\")"
   ],
   "outputs": [
    {
     "output_type": "display_data",
     "data": {
      "application/vnd.jupyter.widget-view+json": {
       "model_id": "29d557c68ab1426ab616215d7ec60962",
       "version_major": 2,
       "version_minor": 0
      },
      "text/plain": [
       "VBox()"
      ]
     },
     "metadata": {}
    },
    {
     "output_type": "display_data",
     "data": {
      "application/vnd.jupyter.widget-view+json": {
       "model_id": "",
       "version_major": 2,
       "version_minor": 0
      },
      "text/plain": [
       "FloatProgress(value=0.0, bar_style='info', description='Progress:', layout=Layout(height='25px', width='50%'),…"
      ]
     },
     "metadata": {}
    }
   ],
   "metadata": {}
  },
  {
   "cell_type": "code",
   "execution_count": 39,
   "source": [
    "df_pd[\"img_name\"] = df_pd.index.to_series().apply(lambda x: f\"img_{str(x)}\")"
   ],
   "outputs": [
    {
     "output_type": "display_data",
     "data": {
      "application/vnd.jupyter.widget-view+json": {
       "model_id": "bcde4d1471304595b781975c948bbf56",
       "version_major": 2,
       "version_minor": 0
      },
      "text/plain": [
       "VBox()"
      ]
     },
     "metadata": {}
    },
    {
     "output_type": "display_data",
     "data": {
      "application/vnd.jupyter.widget-view+json": {
       "model_id": "",
       "version_major": 2,
       "version_minor": 0
      },
      "text/plain": [
       "FloatProgress(value=0.0, bar_style='info', description='Progress:', layout=Layout(height='25px', width='50%'),…"
      ]
     },
     "metadata": {}
    }
   ],
   "metadata": {}
  },
  {
   "cell_type": "code",
   "execution_count": 40,
   "source": [
    "neural_net = construct_neural_network()"
   ],
   "outputs": [
    {
     "output_type": "display_data",
     "data": {
      "application/vnd.jupyter.widget-view+json": {
       "model_id": "da1520d7570f4e988cccc542f8c97ab1",
       "version_major": 2,
       "version_minor": 0
      },
      "text/plain": [
       "VBox()"
      ]
     },
     "metadata": {}
    },
    {
     "output_type": "display_data",
     "data": {
      "application/vnd.jupyter.widget-view+json": {
       "model_id": "",
       "version_major": 2,
       "version_minor": 0
      },
      "text/plain": [
       "FloatProgress(value=0.0, bar_style='info', description='Progress:', layout=Layout(height='25px', width='50%'),…"
      ]
     },
     "metadata": {}
    }
   ],
   "metadata": {}
  },
  {
   "cell_type": "code",
   "execution_count": null,
   "source": [],
   "outputs": [],
   "metadata": {}
  },
  {
   "cell_type": "code",
   "execution_count": 41,
   "source": [
    "def get_deep_feature(url,neural_net):\n",
    "    try:\n",
    "        return get_vector_url(url,neural_net)\n",
    "    except:\n",
    "        pass"
   ],
   "outputs": [
    {
     "output_type": "display_data",
     "data": {
      "application/vnd.jupyter.widget-view+json": {
       "model_id": "9ab46bce20b1454d86d6542ca407c842",
       "version_major": 2,
       "version_minor": 0
      },
      "text/plain": [
       "VBox()"
      ]
     },
     "metadata": {}
    },
    {
     "output_type": "display_data",
     "data": {
      "application/vnd.jupyter.widget-view+json": {
       "model_id": "",
       "version_major": 2,
       "version_minor": 0
      },
      "text/plain": [
       "FloatProgress(value=0.0, bar_style='info', description='Progress:', layout=Layout(height='25px', width='50%'),…"
      ]
     },
     "metadata": {}
    }
   ],
   "metadata": {}
  },
  {
   "cell_type": "code",
   "execution_count": 42,
   "source": [
    "# funtion to loading the deep features from saved dataframe\n",
    "def create_deepfeatures(index,original_dataframe,saved_dataframe,neural_net):\n",
    "    if index <= saved_dataframe.index[-1]:\n",
    "        return saved_dataframe.loc[index,\"deep_feature\"]\n",
    "    else:\n",
    "        try:\n",
    "            url = original_dataframe.loc[index,\"image_url\"]\n",
    "            return get_deep_feature(url,neural_net)\n",
    "        except:\n",
    "            return np.zeros(1280)"
   ],
   "outputs": [
    {
     "output_type": "display_data",
     "data": {
      "application/vnd.jupyter.widget-view+json": {
       "model_id": "72e412b7e90e437cb839019ab1363355",
       "version_major": 2,
       "version_minor": 0
      },
      "text/plain": [
       "VBox()"
      ]
     },
     "metadata": {}
    },
    {
     "output_type": "display_data",
     "data": {
      "application/vnd.jupyter.widget-view+json": {
       "model_id": "",
       "version_major": 2,
       "version_minor": 0
      },
      "text/plain": [
       "FloatProgress(value=0.0, bar_style='info', description='Progress:', layout=Layout(height='25px', width='50%'),…"
      ]
     },
     "metadata": {}
    }
   ],
   "metadata": {}
  },
  {
   "cell_type": "code",
   "execution_count": 43,
   "source": [
    "# load saved deep_features \n",
    "import ast\n",
    "bucketname = \"kinesis-s3records-16jckkpyv314r\"\n",
    "keyname = \"df_features.csv\"\n",
    "saved_df_features = read_csv_file(bucketname,keyname)\n",
    "\n",
    "saved_df_features[\"deep_feature\"] = saved_df_features[\"deep_feature\"].apply(lambda x: np.fromstring(x[1:-1],sep=\", \") )"
   ],
   "outputs": [
    {
     "output_type": "display_data",
     "data": {
      "application/vnd.jupyter.widget-view+json": {
       "model_id": "c11394d17bc549bcbaac459cf59ed39e",
       "version_major": 2,
       "version_minor": 0
      },
      "text/plain": [
       "VBox()"
      ]
     },
     "metadata": {}
    },
    {
     "output_type": "display_data",
     "data": {
      "application/vnd.jupyter.widget-view+json": {
       "model_id": "",
       "version_major": 2,
       "version_minor": 0
      },
      "text/plain": [
       "FloatProgress(value=0.0, bar_style='info', description='Progress:', layout=Layout(height='25px', width='50%'),…"
      ]
     },
     "metadata": {}
    }
   ],
   "metadata": {}
  },
  {
   "cell_type": "code",
   "execution_count": 44,
   "source": [
    "saved_df_features.iloc[294]"
   ],
   "outputs": [
    {
     "output_type": "display_data",
     "data": {
      "application/vnd.jupyter.widget-view+json": {
       "model_id": "b75d61cfc9784ec1972dcaf9bfed03fc",
       "version_major": 2,
       "version_minor": 0
      },
      "text/plain": [
       "VBox()"
      ]
     },
     "metadata": {}
    },
    {
     "output_type": "display_data",
     "data": {
      "application/vnd.jupyter.widget-view+json": {
       "model_id": "",
       "version_major": 2,
       "version_minor": 0
      },
      "text/plain": [
       "FloatProgress(value=0.0, bar_style='info', description='Progress:', layout=Layout(height='25px', width='50%'),…"
      ]
     },
     "metadata": {}
    },
    {
     "output_type": "stream",
     "name": "stdout",
     "text": [
      "Unnamed: 0                                                    294\n",
      "caption         Take the opportunity to multiply your money by...\n",
      "hashtag         [\"nft\", \"nfts\", \"nftart\", \"nftartist\", \"nftcom...\n",
      "image_url       https://scontent-ort2-1.cdninstagram.com/v/t51...\n",
      "hashtags        ['#nft', '#nfts', '#nftart', '#nftartist', '#n...\n",
      "img_name                                                  img_294\n",
      "deep_feature    [0.4041658341884613, 0.40114936232566833, 0.03...\n",
      "Name: 294, dtype: object"
     ]
    }
   ],
   "metadata": {}
  },
  {
   "cell_type": "code",
   "execution_count": 45,
   "source": [
    "type(saved_df_features.deep_feature[0])"
   ],
   "outputs": [
    {
     "output_type": "display_data",
     "data": {
      "application/vnd.jupyter.widget-view+json": {
       "model_id": "914acce2745c4b05bcddaaac5498f2a5",
       "version_major": 2,
       "version_minor": 0
      },
      "text/plain": [
       "VBox()"
      ]
     },
     "metadata": {}
    },
    {
     "output_type": "display_data",
     "data": {
      "application/vnd.jupyter.widget-view+json": {
       "model_id": "",
       "version_major": 2,
       "version_minor": 0
      },
      "text/plain": [
       "FloatProgress(value=0.0, bar_style='info', description='Progress:', layout=Layout(height='25px', width='50%'),…"
      ]
     },
     "metadata": {}
    },
    {
     "output_type": "stream",
     "name": "stdout",
     "text": [
      "<class 'numpy.ndarray'>"
     ]
    }
   ],
   "metadata": {}
  },
  {
   "cell_type": "code",
   "execution_count": 46,
   "source": [
    "saved_df_features"
   ],
   "outputs": [
    {
     "output_type": "display_data",
     "data": {
      "application/vnd.jupyter.widget-view+json": {
       "model_id": "4838a9f820e441e28a8180ea163ed19b",
       "version_major": 2,
       "version_minor": 0
      },
      "text/plain": [
       "VBox()"
      ]
     },
     "metadata": {}
    },
    {
     "output_type": "display_data",
     "data": {
      "application/vnd.jupyter.widget-view+json": {
       "model_id": "",
       "version_major": 2,
       "version_minor": 0
      },
      "text/plain": [
       "FloatProgress(value=0.0, bar_style='info', description='Progress:', layout=Layout(height='25px', width='50%'),…"
      ]
     },
     "metadata": {}
    },
    {
     "output_type": "stream",
     "name": "stdout",
     "text": [
      "     Unnamed: 0  ...                                       deep_feature\n",
      "0             0  ...  [0.0, 0.0, 0.865784764289856, 0.00069944956339...\n",
      "1             1  ...  [0.879599928855896, 0.23585304617881775, 1.039...\n",
      "2             2  ...  [0.0, 0.0, 0.7003890872001648, 0.1560206115245...\n",
      "3             3  ...  [0.0075896806083619595, 0.0, 0.532040476799011...\n",
      "4             4  ...  [0.0, 0.11799856275320053, 0.0, 0.088474199175...\n",
      "..          ...  ...                                                ...\n",
      "416         416  ...  [0.06956370174884796, 0.039646413177251816, 0....\n",
      "417         417  ...  [3.126276969909668, 0.0, 0.0, 0.0, 0.209734916...\n",
      "418         418  ...  [0.15421395003795624, 0.655612051486969, 0.333...\n",
      "419         419  ...  [0.2562243640422821, 0.0, 0.0, 2.1857922077178...\n",
      "420         420  ...  [0.0, 0.0, 0.0, 3.2210769653320312, 1.97364747...\n",
      "\n",
      "[421 rows x 7 columns]"
     ]
    }
   ],
   "metadata": {}
  },
  {
   "cell_type": "code",
   "execution_count": 47,
   "source": [
    "df_pd[\"deep_feature\"] = df_pd.index.to_series().apply(lambda x:  create_deepfeatures(x, df_pd,saved_df_features ,neural_net))"
   ],
   "outputs": [
    {
     "output_type": "display_data",
     "data": {
      "application/vnd.jupyter.widget-view+json": {
       "model_id": "97d2ad5be4a5495eb583e5ce8354f17b",
       "version_major": 2,
       "version_minor": 0
      },
      "text/plain": [
       "VBox()"
      ]
     },
     "metadata": {}
    },
    {
     "output_type": "display_data",
     "data": {
      "application/vnd.jupyter.widget-view+json": {
       "model_id": "",
       "version_major": 2,
       "version_minor": 0
      },
      "text/plain": [
       "FloatProgress(value=0.0, bar_style='info', description='Progress:', layout=Layout(height='25px', width='50%'),…"
      ]
     },
     "metadata": {}
    }
   ],
   "metadata": {}
  },
  {
   "cell_type": "code",
   "execution_count": 48,
   "source": [
    "df_save = df_pd.copy()\n",
    "df_save[\"deep_feature\"] = df_save.deep_feature.apply(lambda x: str(x.tolist()))\n",
    "save_df(df_save,\"df_features.csv\")"
   ],
   "outputs": [
    {
     "output_type": "display_data",
     "data": {
      "application/vnd.jupyter.widget-view+json": {
       "model_id": "ceb5b11bd1e644c49b988c303b874b1a",
       "version_major": 2,
       "version_minor": 0
      },
      "text/plain": [
       "VBox()"
      ]
     },
     "metadata": {}
    },
    {
     "output_type": "display_data",
     "data": {
      "application/vnd.jupyter.widget-view+json": {
       "model_id": "",
       "version_major": 2,
       "version_minor": 0
      },
      "text/plain": [
       "FloatProgress(value=0.0, bar_style='info', description='Progress:', layout=Layout(height='25px', width='50%'),…"
      ]
     },
     "metadata": {}
    }
   ],
   "metadata": {}
  },
  {
   "cell_type": "code",
   "execution_count": 49,
   "source": [
    "# construct dataframe for recsys of hashtag_id and image_id \n",
    "hashtag_rec_data = []\n",
    "for i in df_pd.index:\n",
    "    hashtag_list = df_pd.loc[i, 'hashtags']\n",
    "    for hashtag in hashtag_list:\n",
    "        hashtag_rec_data.append(\n",
    "            {'image_id': i,\n",
    "             'hashtag_id': hashtag_lookup[hashtag],\n",
    "             'rating': 1}\n",
    "        )\n",
    "hashtag_rec_data_df = pd.DataFrame(hashtag_rec_data)\n",
    "hashtag_rec_data_df.tail()"
   ],
   "outputs": [
    {
     "output_type": "display_data",
     "data": {
      "application/vnd.jupyter.widget-view+json": {
       "model_id": "b7dc8fa1a4ae4012ac01ad88408585d4",
       "version_major": 2,
       "version_minor": 0
      },
      "text/plain": [
       "VBox()"
      ]
     },
     "metadata": {}
    },
    {
     "output_type": "display_data",
     "data": {
      "application/vnd.jupyter.widget-view+json": {
       "model_id": "",
       "version_major": 2,
       "version_minor": 0
      },
      "text/plain": [
       "FloatProgress(value=0.0, bar_style='info', description='Progress:', layout=Layout(height='25px', width='50%'),…"
      ]
     },
     "metadata": {}
    },
    {
     "output_type": "stream",
     "name": "stdout",
     "text": [
      "      image_id  hashtag_id  rating\n",
      "4775       419        1382       1\n",
      "4776       419         501       1\n",
      "4777       419         812       1\n",
      "4778       420         841       1\n",
      "4779       420         163       1"
     ]
    }
   ],
   "metadata": {}
  },
  {
   "cell_type": "code",
   "execution_count": 50,
   "source": [
    "save_df(hashtag_rec_data_df,\"rec_hashtags.csv\")"
   ],
   "outputs": [
    {
     "output_type": "display_data",
     "data": {
      "application/vnd.jupyter.widget-view+json": {
       "model_id": "7ebad7fb00b34d1daf5aeb7479ebcd7c",
       "version_major": 2,
       "version_minor": 0
      },
      "text/plain": [
       "VBox()"
      ]
     },
     "metadata": {}
    },
    {
     "output_type": "display_data",
     "data": {
      "application/vnd.jupyter.widget-view+json": {
       "model_id": "",
       "version_major": 2,
       "version_minor": 0
      },
      "text/plain": [
       "FloatProgress(value=0.0, bar_style='info', description='Progress:', layout=Layout(height='25px', width='50%'),…"
      ]
     },
     "metadata": {}
    }
   ],
   "metadata": {}
  },
  {
   "cell_type": "code",
   "execution_count": 51,
   "source": [
    "als = ALS(userCol='image_id',\n",
    "          itemCol='hashtag_id',\n",
    "          implicitPrefs=True,\n",
    "          alpha=40)\n",
    "\n",
    "als.setSeed(0)"
   ],
   "outputs": [
    {
     "output_type": "display_data",
     "data": {
      "application/vnd.jupyter.widget-view+json": {
       "model_id": "7a57013cd71447ee8490d8d8ace2bdc0",
       "version_major": 2,
       "version_minor": 0
      },
      "text/plain": [
       "VBox()"
      ]
     },
     "metadata": {}
    },
    {
     "output_type": "display_data",
     "data": {
      "application/vnd.jupyter.widget-view+json": {
       "model_id": "",
       "version_major": 2,
       "version_minor": 0
      },
      "text/plain": [
       "FloatProgress(value=0.0, bar_style='info', description='Progress:', layout=Layout(height='25px', width='50%'),…"
      ]
     },
     "metadata": {}
    },
    {
     "output_type": "stream",
     "name": "stdout",
     "text": [
      "ALS_1323658ac7b1"
     ]
    }
   ],
   "metadata": {}
  },
  {
   "cell_type": "code",
   "execution_count": 52,
   "source": [
    "sqlcontext = SQLContext(sc)"
   ],
   "outputs": [
    {
     "output_type": "display_data",
     "data": {
      "application/vnd.jupyter.widget-view+json": {
       "model_id": "d43942587c174fa3a1e5a36802df5130",
       "version_major": 2,
       "version_minor": 0
      },
      "text/plain": [
       "VBox()"
      ]
     },
     "metadata": {}
    },
    {
     "output_type": "display_data",
     "data": {
      "application/vnd.jupyter.widget-view+json": {
       "model_id": "",
       "version_major": 2,
       "version_minor": 0
      },
      "text/plain": [
       "FloatProgress(value=0.0, bar_style='info', description='Progress:', layout=Layout(height='25px', width='50%'),…"
      ]
     },
     "metadata": {}
    }
   ],
   "metadata": {}
  },
  {
   "cell_type": "code",
   "execution_count": 53,
   "source": [
    "rec_hashtags = sqlcontext.read.csv(\"s3://kinesis-s3records-16jckkpyv314r/dataframe/rec_hashtags.csv\",header = True)"
   ],
   "outputs": [
    {
     "output_type": "display_data",
     "data": {
      "application/vnd.jupyter.widget-view+json": {
       "model_id": "4e3a965859eb4377825795c4401c29a7",
       "version_major": 2,
       "version_minor": 0
      },
      "text/plain": [
       "VBox()"
      ]
     },
     "metadata": {}
    },
    {
     "output_type": "display_data",
     "data": {
      "application/vnd.jupyter.widget-view+json": {
       "model_id": "",
       "version_major": 2,
       "version_minor": 0
      },
      "text/plain": [
       "FloatProgress(value=0.0, bar_style='info', description='Progress:', layout=Layout(height='25px', width='50%'),…"
      ]
     },
     "metadata": {}
    }
   ],
   "metadata": {}
  },
  {
   "cell_type": "code",
   "execution_count": 54,
   "source": [
    "rec_hashtags.show()"
   ],
   "outputs": [
    {
     "output_type": "display_data",
     "data": {
      "application/vnd.jupyter.widget-view+json": {
       "model_id": "80fbd0c1aede4b80b0e3d1cea2501e28",
       "version_major": 2,
       "version_minor": 0
      },
      "text/plain": [
       "VBox()"
      ]
     },
     "metadata": {}
    },
    {
     "output_type": "display_data",
     "data": {
      "application/vnd.jupyter.widget-view+json": {
       "model_id": "",
       "version_major": 2,
       "version_minor": 0
      },
      "text/plain": [
       "FloatProgress(value=0.0, bar_style='info', description='Progress:', layout=Layout(height='25px', width='50%'),…"
      ]
     },
     "metadata": {}
    },
    {
     "output_type": "stream",
     "name": "stdout",
     "text": [
      "+---+--------+----------+------+\n",
      "|_c0|image_id|hashtag_id|rating|\n",
      "+---+--------+----------+------+\n",
      "|  0|       0|       316|     1|\n",
      "|  1|       0|      1477|     1|\n",
      "|  2|       0|       314|     1|\n",
      "|  3|       0|       556|     1|\n",
      "|  4|       0|        13|     1|\n",
      "|  5|       0|      1423|     1|\n",
      "|  6|       0|      1492|     1|\n",
      "|  7|       0|      1045|     1|\n",
      "|  8|       0|       884|     1|\n",
      "|  9|       0|       885|     1|\n",
      "| 10|       0|       839|     1|\n",
      "| 11|       0|       852|     1|\n",
      "| 12|       0|      1549|     1|\n",
      "| 13|       0|       780|     1|\n",
      "| 14|       0|       786|     1|\n",
      "| 15|       0|       840|     1|\n",
      "| 16|       0|      1309|     1|\n",
      "| 17|       0|       900|     1|\n",
      "| 18|       0|       183|     1|\n",
      "| 19|       0|       310|     1|\n",
      "+---+--------+----------+------+\n",
      "only showing top 20 rows"
     ]
    }
   ],
   "metadata": {}
  },
  {
   "cell_type": "code",
   "execution_count": 55,
   "source": [
    "rec_hashtags.count()"
   ],
   "outputs": [
    {
     "output_type": "display_data",
     "data": {
      "application/vnd.jupyter.widget-view+json": {
       "model_id": "bdf545e73fe644448e107ba08c374551",
       "version_major": 2,
       "version_minor": 0
      },
      "text/plain": [
       "VBox()"
      ]
     },
     "metadata": {}
    },
    {
     "output_type": "display_data",
     "data": {
      "application/vnd.jupyter.widget-view+json": {
       "model_id": "",
       "version_major": 2,
       "version_minor": 0
      },
      "text/plain": [
       "FloatProgress(value=0.0, bar_style='info', description='Progress:', layout=Layout(height='25px', width='50%'),…"
      ]
     },
     "metadata": {}
    },
    {
     "output_type": "stream",
     "name": "stdout",
     "text": [
      "4780"
     ]
    }
   ],
   "metadata": {}
  },
  {
   "cell_type": "code",
   "execution_count": 56,
   "source": [
    "rec_hashtags.toPandas().tail(4)"
   ],
   "outputs": [
    {
     "output_type": "display_data",
     "data": {
      "application/vnd.jupyter.widget-view+json": {
       "model_id": "36677627d4614e2bb669c10f4ea1ede2",
       "version_major": 2,
       "version_minor": 0
      },
      "text/plain": [
       "VBox()"
      ]
     },
     "metadata": {}
    },
    {
     "output_type": "display_data",
     "data": {
      "application/vnd.jupyter.widget-view+json": {
       "model_id": "",
       "version_major": 2,
       "version_minor": 0
      },
      "text/plain": [
       "FloatProgress(value=0.0, bar_style='info', description='Progress:', layout=Layout(height='25px', width='50%'),…"
      ]
     },
     "metadata": {}
    },
    {
     "output_type": "stream",
     "name": "stdout",
     "text": [
      "       _c0 image_id hashtag_id rating\n",
      "4776  4776      419        501      1\n",
      "4777  4777      419        812      1\n",
      "4778  4778      420        841      1\n",
      "4779  4779      420        163      1"
     ]
    }
   ],
   "metadata": {}
  },
  {
   "cell_type": "code",
   "execution_count": 57,
   "source": [
    "rec_hashtags.printSchema()"
   ],
   "outputs": [
    {
     "output_type": "display_data",
     "data": {
      "application/vnd.jupyter.widget-view+json": {
       "model_id": "415ced03410d4af48c0315db5cbf1966",
       "version_major": 2,
       "version_minor": 0
      },
      "text/plain": [
       "VBox()"
      ]
     },
     "metadata": {}
    },
    {
     "output_type": "display_data",
     "data": {
      "application/vnd.jupyter.widget-view+json": {
       "model_id": "",
       "version_major": 2,
       "version_minor": 0
      },
      "text/plain": [
       "FloatProgress(value=0.0, bar_style='info', description='Progress:', layout=Layout(height='25px', width='50%'),…"
      ]
     },
     "metadata": {}
    },
    {
     "output_type": "stream",
     "name": "stdout",
     "text": [
      "root\n",
      " |-- _c0: string (nullable = true)\n",
      " |-- image_id: string (nullable = true)\n",
      " |-- hashtag_id: string (nullable = true)\n",
      " |-- rating: string (nullable = true)"
     ]
    }
   ],
   "metadata": {}
  },
  {
   "cell_type": "code",
   "execution_count": 58,
   "source": [
    "for i in [\"image_id\",\"hashtag_id\",\"rating\"]:\n",
    "    rec_hashtags = rec_hashtags.withColumn(i, rec_hashtags[i].cast(IntegerType()))"
   ],
   "outputs": [
    {
     "output_type": "display_data",
     "data": {
      "application/vnd.jupyter.widget-view+json": {
       "model_id": "e50b0b355a6344f290e5dc31ecce8bd3",
       "version_major": 2,
       "version_minor": 0
      },
      "text/plain": [
       "VBox()"
      ]
     },
     "metadata": {}
    },
    {
     "output_type": "display_data",
     "data": {
      "application/vnd.jupyter.widget-view+json": {
       "model_id": "",
       "version_major": 2,
       "version_minor": 0
      },
      "text/plain": [
       "FloatProgress(value=0.0, bar_style='info', description='Progress:', layout=Layout(height='25px', width='50%'),…"
      ]
     },
     "metadata": {}
    }
   ],
   "metadata": {}
  },
  {
   "cell_type": "code",
   "execution_count": 59,
   "source": [
    "als_model = als.fit(rec_hashtags)"
   ],
   "outputs": [
    {
     "output_type": "display_data",
     "data": {
      "application/vnd.jupyter.widget-view+json": {
       "model_id": "9a4258e8995040e08e7b82a841428349",
       "version_major": 2,
       "version_minor": 0
      },
      "text/plain": [
       "VBox()"
      ]
     },
     "metadata": {}
    },
    {
     "output_type": "display_data",
     "data": {
      "application/vnd.jupyter.widget-view+json": {
       "model_id": "",
       "version_major": 2,
       "version_minor": 0
      },
      "text/plain": [
       "FloatProgress(value=0.0, bar_style='info', description='Progress:', layout=Layout(height='25px', width='50%'),…"
      ]
     },
     "metadata": {}
    }
   ],
   "metadata": {}
  },
  {
   "cell_type": "code",
   "execution_count": 60,
   "source": [
    "# get image and hashtags features extracted from als\n",
    "img_features = als_model.userFactors.toPandas()\n",
    "hashtag_features = als_model.itemFactors.toPandas()"
   ],
   "outputs": [
    {
     "output_type": "display_data",
     "data": {
      "application/vnd.jupyter.widget-view+json": {
       "model_id": "042f148df9d6403686104274b87809e0",
       "version_major": 2,
       "version_minor": 0
      },
      "text/plain": [
       "VBox()"
      ]
     },
     "metadata": {}
    },
    {
     "output_type": "display_data",
     "data": {
      "application/vnd.jupyter.widget-view+json": {
       "model_id": "",
       "version_major": 2,
       "version_minor": 0
      },
      "text/plain": [
       "FloatProgress(value=0.0, bar_style='info', description='Progress:', layout=Layout(height='25px', width='50%'),…"
      ]
     },
     "metadata": {}
    }
   ],
   "metadata": {}
  },
  {
   "cell_type": "code",
   "execution_count": 61,
   "source": [
    "img_features = img_features.set_index(\"id\")\n",
    "hashtag_features = hashtag_features.set_index(\"id\")"
   ],
   "outputs": [
    {
     "output_type": "display_data",
     "data": {
      "application/vnd.jupyter.widget-view+json": {
       "model_id": "67ea445d1c7d4c8b8245f7ddf5aa635d",
       "version_major": 2,
       "version_minor": 0
      },
      "text/plain": [
       "VBox()"
      ]
     },
     "metadata": {}
    },
    {
     "output_type": "display_data",
     "data": {
      "application/vnd.jupyter.widget-view+json": {
       "model_id": "",
       "version_major": 2,
       "version_minor": 0
      },
      "text/plain": [
       "FloatProgress(value=0.0, bar_style='info', description='Progress:', layout=Layout(height='25px', width='50%'),…"
      ]
     },
     "metadata": {}
    }
   ],
   "metadata": {}
  },
  {
   "cell_type": "code",
   "execution_count": 62,
   "source": [
    "img_features"
   ],
   "outputs": [
    {
     "output_type": "display_data",
     "data": {
      "application/vnd.jupyter.widget-view+json": {
       "model_id": "69d801898e4c49d0954c7976d89a1a93",
       "version_major": 2,
       "version_minor": 0
      },
      "text/plain": [
       "VBox()"
      ]
     },
     "metadata": {}
    },
    {
     "output_type": "display_data",
     "data": {
      "application/vnd.jupyter.widget-view+json": {
       "model_id": "",
       "version_major": 2,
       "version_minor": 0
      },
      "text/plain": [
       "FloatProgress(value=0.0, bar_style='info', description='Progress:', layout=Layout(height='25px', width='50%'),…"
      ]
     },
     "metadata": {}
    },
    {
     "output_type": "stream",
     "name": "stdout",
     "text": [
      "                                              features\n",
      "id                                                    \n",
      "0    [0.13956701755523682, 0.7346398234367371, 0.05...\n",
      "10   [-0.06916030496358871, -0.3364502191543579, 0....\n",
      "20   [0.11296151578426361, 0.4349663555622101, 0.03...\n",
      "30   [-0.2047702521085739, 0.2715473473072052, 0.06...\n",
      "40   [0.21806775033473969, -0.2691774070262909, -0....\n",
      "..                                                 ...\n",
      "379  [-0.26747846603393555, 0.2883451581001282, -0....\n",
      "389  [-0.12186341732740402, 0.1351088285446167, 0.0...\n",
      "399  [-0.4461362659931183, -0.07086769491434097, 0....\n",
      "409  [0.15092189610004425, -0.3283292055130005, -0....\n",
      "419  [0.0952983871102333, 0.5853119492530823, 0.498...\n",
      "\n",
      "[415 rows x 1 columns]"
     ]
    }
   ],
   "metadata": {}
  },
  {
   "cell_type": "code",
   "execution_count": 63,
   "source": [
    "hashtag_features"
   ],
   "outputs": [
    {
     "output_type": "display_data",
     "data": {
      "application/vnd.jupyter.widget-view+json": {
       "model_id": "de344e8764c44043aa8cd59cb1c57861",
       "version_major": 2,
       "version_minor": 0
      },
      "text/plain": [
       "VBox()"
      ]
     },
     "metadata": {}
    },
    {
     "output_type": "display_data",
     "data": {
      "application/vnd.jupyter.widget-view+json": {
       "model_id": "",
       "version_major": 2,
       "version_minor": 0
      },
      "text/plain": [
       "FloatProgress(value=0.0, bar_style='info', description='Progress:', layout=Layout(height='25px', width='50%'),…"
      ]
     },
     "metadata": {}
    },
    {
     "output_type": "stream",
     "name": "stdout",
     "text": [
      "                                               features\n",
      "id                                                     \n",
      "0     [-0.15813808143138885, -0.1324387788772583, -0...\n",
      "10    [-0.0003790539049077779, 0.2680297791957855, -...\n",
      "20    [0.3046354055404663, -0.26104578375816345, 0.1...\n",
      "30    [-0.09749610722064972, 0.14251653850078583, -0...\n",
      "40    [0.27278828620910645, -0.0023461305536329746, ...\n",
      "...                                                 ...\n",
      "1519  [-0.17712463438510895, -0.20465600490570068, 0...\n",
      "1529  [-0.038235072046518326, 0.06197502836585045, -...\n",
      "1539  [0.12802544236183167, -0.09011849015951157, 0....\n",
      "1549  [0.21435751020908356, 0.43510493636131287, 0.0...\n",
      "1559  [-0.11038688570261002, -0.16956259310245514, -...\n",
      "\n",
      "[1560 rows x 1 columns]"
     ]
    }
   ],
   "metadata": {}
  },
  {
   "cell_type": "code",
   "execution_count": 64,
   "source": [
    "# save features for later used \n",
    "save_df(img_features,\"img_features.csv\")\n",
    "save_df(hashtag_features,\"hashtag_features.csv\")"
   ],
   "outputs": [
    {
     "output_type": "display_data",
     "data": {
      "application/vnd.jupyter.widget-view+json": {
       "model_id": "0e21701e241044b48071a00f7ef498f2",
       "version_major": 2,
       "version_minor": 0
      },
      "text/plain": [
       "VBox()"
      ]
     },
     "metadata": {}
    },
    {
     "output_type": "display_data",
     "data": {
      "application/vnd.jupyter.widget-view+json": {
       "model_id": "",
       "version_major": 2,
       "version_minor": 0
      },
      "text/plain": [
       "FloatProgress(value=0.0, bar_style='info', description='Progress:', layout=Layout(height='25px', width='50%'),…"
      ]
     },
     "metadata": {}
    }
   ],
   "metadata": {}
  },
  {
   "cell_type": "code",
   "execution_count": 65,
   "source": [
    "def fetch_image_from_s3_to_array(client,bucket, key):\n",
    "    \"\"\"Fetches an image from S3 and returns a numpy array.\"\"\"\n",
    "    response = client.get_object(Bucket=bucket, Key=key)\n",
    "    body = response[\"Body\"]\n",
    "    data = body.read()\n",
    "    f = BytesIO(data)\n",
    "    image = Image.open(f)\n",
    "    image_data = np.asarray(image)\n",
    "    return image_data\n",
    "    "
   ],
   "outputs": [
    {
     "output_type": "display_data",
     "data": {
      "application/vnd.jupyter.widget-view+json": {
       "model_id": "dcb49e8a5ef4468fac8b1907a4366c85",
       "version_major": 2,
       "version_minor": 0
      },
      "text/plain": [
       "VBox()"
      ]
     },
     "metadata": {}
    },
    {
     "output_type": "display_data",
     "data": {
      "application/vnd.jupyter.widget-view+json": {
       "model_id": "",
       "version_major": 2,
       "version_minor": 0
      },
      "text/plain": [
       "FloatProgress(value=0.0, bar_style='info', description='Progress:', layout=Layout(height='25px', width='50%'),…"
      ]
     },
     "metadata": {}
    }
   ],
   "metadata": {}
  },
  {
   "cell_type": "code",
   "execution_count": 66,
   "source": [
    "def get_hashtags(df_features, hashtags_df,images_features,hashtag_features,neural_net = neural_net, url = None,client = client ,bucket=None,key = None,number = 20):\n",
    "    if url:\n",
    "        deep_features = get_vector_url(url,neural_net)\n",
    "        print(type(deep_features[0]))\n",
    "    else:\n",
    "        image = fetch_image_from_s3_to_array(client,bucket,key)\n",
    "        deep_features = get_vector_img(image,neural_net)\n",
    "    df_rec = df_features.copy()\n",
    "    chosen = find_neighbor_vectors(deep_features,df_rec)\n",
    "    list_features_combine = [images_features.loc[i,\"features\"] for i in chosen.index.tolist()]\n",
    "    average_features = np.asarray(list_features_combine).mean(axis = 0)\n",
    "    hashtags = hashtag_features.copy()\n",
    "    hashtags[\"dot_product\"] = hashtags.features.apply(lambda x: np.asarray(x).dot(average_features))\n",
    "    final_recs = hashtags.sort_values(by='dot_product', ascending=False).head(number)\n",
    "    # Look up hashtags by their numeric IDs\n",
    "    output = []\n",
    "    for hashtag_id in final_recs.index.values:\n",
    "        output.append(hashtags_df.iloc[hashtag_id]['hashtag'])\n",
    "\n",
    "    return output"
   ],
   "outputs": [
    {
     "output_type": "display_data",
     "data": {
      "application/vnd.jupyter.widget-view+json": {
       "model_id": "b2fb4ffe41f142d8a8323489b4ba41c2",
       "version_major": 2,
       "version_minor": 0
      },
      "text/plain": [
       "VBox()"
      ]
     },
     "metadata": {}
    },
    {
     "output_type": "display_data",
     "data": {
      "application/vnd.jupyter.widget-view+json": {
       "model_id": "",
       "version_major": 2,
       "version_minor": 0
      },
      "text/plain": [
       "FloatProgress(value=0.0, bar_style='info', description='Progress:', layout=Layout(height='25px', width='50%'),…"
      ]
     },
     "metadata": {}
    }
   ],
   "metadata": {}
  },
  {
   "cell_type": "code",
   "execution_count": 67,
   "source": [
    "url = \"https://image.thanhnien.vn/1024/uploaded/binhhh/2020_09_28/bts-2_kbet.jpg\"\n",
    "a = get_hashtags(df_pd,hashtags_df,img_features,hashtag_features,url =url )"
   ],
   "outputs": [
    {
     "output_type": "display_data",
     "data": {
      "application/vnd.jupyter.widget-view+json": {
       "model_id": "dfc139f1cc1b470e9f3d9c1f192e4b40",
       "version_major": 2,
       "version_minor": 0
      },
      "text/plain": [
       "VBox()"
      ]
     },
     "metadata": {}
    },
    {
     "output_type": "display_data",
     "data": {
      "application/vnd.jupyter.widget-view+json": {
       "model_id": "",
       "version_major": 2,
       "version_minor": 0
      },
      "text/plain": [
       "FloatProgress(value=0.0, bar_style='info', description='Progress:', layout=Layout(height='25px', width='50%'),…"
      ]
     },
     "metadata": {}
    },
    {
     "output_type": "stream",
     "name": "stdout",
     "text": [
      "<class 'numpy.float32'>"
     ]
    }
   ],
   "metadata": {}
  },
  {
   "cell_type": "code",
   "execution_count": 68,
   "source": [
    "a"
   ],
   "outputs": [
    {
     "output_type": "display_data",
     "data": {
      "application/vnd.jupyter.widget-view+json": {
       "model_id": "972e65c0e3b6406d8d2c9f9c24a22dd5",
       "version_major": 2,
       "version_minor": 0
      },
      "text/plain": [
       "VBox()"
      ]
     },
     "metadata": {}
    },
    {
     "output_type": "display_data",
     "data": {
      "application/vnd.jupyter.widget-view+json": {
       "model_id": "",
       "version_major": 2,
       "version_minor": 0
      },
      "text/plain": [
       "FloatProgress(value=0.0, bar_style='info', description='Progress:', layout=Layout(height='25px', width='50%'),…"
      ]
     },
     "metadata": {}
    },
    {
     "output_type": "stream",
     "name": "stdout",
     "text": [
      "['#chen', '#kpop', '#exo', '#happybirthday', '#exol', '#love', '#kimjongdae', '#chenexo', '#happychenday', '#weareoneexo', '#jongdae', '#weareone', '#baekhyun', '#kimjongdaeexo', '#sehun', '#chanyeol', '#lay', '#kai', '#xiumin', '#suho']"
     ]
    }
   ],
   "metadata": {}
  },
  {
   "cell_type": "code",
   "execution_count": 73,
   "source": [
    "bucketname = \"kinesis-s3records-16jckkpyv314r\"\n",
    "keyname = \"df_features.csv\"\n",
    "df_features = read_csv_file(bucketname,keyname)\n",
    "df_features[\"deep_feature\"] = df_features[\"deep_feature\"].apply(lambda x: np.fromstring(x[1:-1],sep=\", \") )"
   ],
   "outputs": [
    {
     "output_type": "display_data",
     "data": {
      "application/vnd.jupyter.widget-view+json": {
       "model_id": "5fa61bcbffbb48b798cf34888df6356f",
       "version_major": 2,
       "version_minor": 0
      },
      "text/plain": [
       "VBox()"
      ]
     },
     "metadata": {}
    },
    {
     "output_type": "display_data",
     "data": {
      "application/vnd.jupyter.widget-view+json": {
       "model_id": "",
       "version_major": 2,
       "version_minor": 0
      },
      "text/plain": [
       "FloatProgress(value=0.0, bar_style='info', description='Progress:', layout=Layout(height='25px', width='50%'),…"
      ]
     },
     "metadata": {}
    }
   ],
   "metadata": {}
  },
  {
   "cell_type": "code",
   "execution_count": 70,
   "source": [
    "hashtags_file = \"hashtags.csv\"\n",
    "hashtags_df = read_csv_file(bucketname,hashtags_file)"
   ],
   "outputs": [
    {
     "output_type": "display_data",
     "data": {
      "application/vnd.jupyter.widget-view+json": {
       "model_id": "fa0c112e084649f8bf107a42c3b23f8d",
       "version_major": 2,
       "version_minor": 0
      },
      "text/plain": [
       "VBox()"
      ]
     },
     "metadata": {}
    },
    {
     "output_type": "display_data",
     "data": {
      "application/vnd.jupyter.widget-view+json": {
       "model_id": "",
       "version_major": 2,
       "version_minor": 0
      },
      "text/plain": [
       "FloatProgress(value=0.0, bar_style='info', description='Progress:', layout=Layout(height='25px', width='50%'),…"
      ]
     },
     "metadata": {}
    }
   ],
   "metadata": {}
  },
  {
   "cell_type": "code",
   "execution_count": 71,
   "source": [
    "images_features_file = \"img_features.csv\"\n",
    "images_features = read_csv_file(bucketname,images_features_file)\n"
   ],
   "outputs": [
    {
     "output_type": "display_data",
     "data": {
      "application/vnd.jupyter.widget-view+json": {
       "model_id": "55b49934c95448d680ae3f3e2e827487",
       "version_major": 2,
       "version_minor": 0
      },
      "text/plain": [
       "VBox()"
      ]
     },
     "metadata": {}
    },
    {
     "output_type": "display_data",
     "data": {
      "application/vnd.jupyter.widget-view+json": {
       "model_id": "",
       "version_major": 2,
       "version_minor": 0
      },
      "text/plain": [
       "FloatProgress(value=0.0, bar_style='info', description='Progress:', layout=Layout(height='25px', width='50%'),…"
      ]
     },
     "metadata": {}
    }
   ],
   "metadata": {}
  },
  {
   "cell_type": "code",
   "execution_count": 72,
   "source": [
    "hashtag_features_file = \"hashtag_features.csv\"\n",
    "hashtag_features = read_csv_file(bucketname,hashtag_features_file)"
   ],
   "outputs": [
    {
     "output_type": "display_data",
     "data": {
      "application/vnd.jupyter.widget-view+json": {
       "model_id": "be62aff666eb4057936563a9484026b2",
       "version_major": 2,
       "version_minor": 0
      },
      "text/plain": [
       "VBox()"
      ]
     },
     "metadata": {}
    },
    {
     "output_type": "display_data",
     "data": {
      "application/vnd.jupyter.widget-view+json": {
       "model_id": "",
       "version_major": 2,
       "version_minor": 0
      },
      "text/plain": [
       "FloatProgress(value=0.0, bar_style='info', description='Progress:', layout=Layout(height='25px', width='50%'),…"
      ]
     },
     "metadata": {}
    }
   ],
   "metadata": {}
  },
  {
   "cell_type": "code",
   "execution_count": 74,
   "source": [
    "# images_features.features"
   ],
   "outputs": [
    {
     "output_type": "display_data",
     "data": {
      "application/vnd.jupyter.widget-view+json": {
       "model_id": "36a6f1dc3a93488294462fbf0b74a08e",
       "version_major": 2,
       "version_minor": 0
      },
      "text/plain": [
       "VBox()"
      ]
     },
     "metadata": {}
    },
    {
     "output_type": "display_data",
     "data": {
      "application/vnd.jupyter.widget-view+json": {
       "model_id": "",
       "version_major": 2,
       "version_minor": 0
      },
      "text/plain": [
       "FloatProgress(value=0.0, bar_style='info', description='Progress:', layout=Layout(height='25px', width='50%'),…"
      ]
     },
     "metadata": {}
    },
    {
     "output_type": "stream",
     "name": "stdout",
     "text": [
      "0      [0.13956701755523682, 0.7346398234367371, 0.05...\n",
      "1      [-0.06916030496358871, -0.3364502191543579, 0....\n",
      "2      [0.11296151578426361, 0.4349663555622101, 0.03...\n",
      "3      [-0.2047702521085739, 0.2715473473072052, 0.06...\n",
      "4      [0.21806775033473969, -0.2691774070262909, -0....\n",
      "                             ...                        \n",
      "410    [-0.26747846603393555, 0.2883451581001282, -0....\n",
      "411    [-0.12186341732740402, 0.1351088285446167, 0.0...\n",
      "412    [-0.4461362659931183, -0.07086769491434097, 0....\n",
      "413    [0.15092189610004425, -0.3283292055130005, -0....\n",
      "414    [0.0952983871102333, 0.5853119492530823, 0.498...\n",
      "Name: features, Length: 415, dtype: object"
     ]
    }
   ],
   "metadata": {}
  },
  {
   "cell_type": "code",
   "execution_count": null,
   "source": [],
   "outputs": [],
   "metadata": {}
  },
  {
   "cell_type": "code",
   "execution_count": null,
   "source": [],
   "outputs": [],
   "metadata": {}
  }
 ],
 "metadata": {
  "kernelspec": {
   "display_name": "PySpark",
   "language": "",
   "name": "pysparkkernel"
  },
  "language_info": {
   "codemirror_mode": {
    "name": "python",
    "version": 2
   },
   "mimetype": "text/x-python",
   "name": "pyspark",
   "pygments_lexer": "python2"
  }
 },
 "nbformat": 4,
 "nbformat_minor": 5
}